{
 "cells": [
  {
   "cell_type": "code",
   "execution_count": 1,
   "metadata": {},
   "outputs": [],
   "source": [
    "import pandas as pd"
   ]
  },
  {
   "cell_type": "markdown",
   "metadata": {},
   "source": [
    "Combining three dataframes"
   ]
  },
  {
   "cell_type": "code",
   "execution_count": 2,
   "metadata": {},
   "outputs": [],
   "source": [
    "df = pd.read_csv(\"gpa_ds.csv\")"
   ]
  },
  {
   "cell_type": "code",
   "execution_count": 3,
   "metadata": {},
   "outputs": [
    {
     "name": "stderr",
     "output_type": "stream",
     "text": [
      "/Users/jaeheukjung/opt/anaconda3/lib/python3.7/site-packages/IPython/core/interactiveshell.py:3058: DtypeWarning: Columns (2,3,4,5,6,7,8,9,12,13,14,17,18,19,21,22,23,25,26,27,28,29,30) have mixed types. Specify dtype option on import or set low_memory=False.\n",
      "  interactivity=interactivity, compiler=compiler, result=result)\n",
      "/Users/jaeheukjung/opt/anaconda3/lib/python3.7/site-packages/IPython/core/interactiveshell.py:3058: DtypeWarning: Columns (37,43,53) have mixed types. Specify dtype option on import or set low_memory=False.\n",
      "  interactivity=interactivity, compiler=compiler, result=result)\n"
     ]
    }
   ],
   "source": [
    "courses = pd.read_csv('courses.csv')\n",
    "demo = pd.read_csv('demographics.csv')"
   ]
  },
  {
   "cell_type": "code",
   "execution_count": 4,
   "metadata": {},
   "outputs": [],
   "source": [
    "courses = courses.loc[courses[\"SubjectID\"]>0]\n",
    "demo = demo.loc[demo['SubjectID']>0]\n",
    "df = df.loc[df['SubjectID']>0]"
   ]
  },
  {
   "cell_type": "markdown",
   "metadata": {},
   "source": [
    "Dropping columns by common sense"
   ]
  },
  {
   "cell_type": "code",
   "execution_count": 24,
   "metadata": {},
   "outputs": [
    {
     "data": {
      "text/plain": [
       "Index(['SubjectID', 'Year Term ID', 'Ps1 Timestat Code', 'Ps1 Ofcl Stat Flag',\n",
       "       'Ps1 Major1 Code', 'Ps1 Major2 Code', 'Ps2 Ofcl Stat Flag',\n",
       "       'Ps2 Major1 Code', 'Ps2 Major2 Code', 'Ps1 Class Code', 'CRN',\n",
       "       'College Code', 'Subject Code', 'Course No', 'Course Discipline Code',\n",
       "       'Parent CRN', 'Parent College Code', 'Parent Subject Code',\n",
       "       'Parent Course No', 'Parent Discipline Code', 'Credit Hrs',\n",
       "       'Repeated Flag', 'Reg Status Desc', 'Grade', 'Grade Value',\n",
       "       'Reported Grade', 'Ps1 Enroll Status Desc', 'Ps1 Withdraw Code',\n",
       "       'Ps1 Withdraw Reason', 'Dorm Area', 'Ps1 Acad Standing Desc'],\n",
       "      dtype='object')"
      ]
     },
     "execution_count": 24,
     "metadata": {},
     "output_type": "execute_result"
    }
   ],
   "source": [
    "courses.columns"
   ]
  },
  {
   "cell_type": "code",
   "execution_count": 5,
   "metadata": {},
   "outputs": [],
   "source": [
    "courses = courses.drop( ['Ps1 Class Code', 'CRN',\n",
    "       'College Code', 'Subject Code', 'Course No', 'Course Discipline Code',\n",
    "       'Parent CRN', 'Parent College Code', 'Parent Subject Code',\n",
    "       'Parent Course No', 'Parent Discipline Code'], axis = 1)"
   ]
  },
  {
   "cell_type": "code",
   "execution_count": 6,
   "metadata": {},
   "outputs": [],
   "source": [
    "courses= courses.drop(['Reg Status Desc', 'Grade Value','Ps1 Enroll Status Desc', 'Ps1 Withdraw Code',\n",
    "       'Ps1 Withdraw Reason'], axis = 1)"
   ]
  },
  {
   "cell_type": "code",
   "execution_count": 7,
   "metadata": {},
   "outputs": [],
   "source": [
    "demo = demo.drop(['Visa Code', 'Visa Desc', 'Citizen Type',\n",
    "       'Citizen Country Code',\n",
    "       '2010 IPEDS Ethnicity Description', '2010 Ethnicity Short Desc',\n",
    "       'Veteran Status Desc', 'HS State Prov',\n",
    "       'HS Postal Code', 'HS Country', 'HS Rank', 'HS Size',\n",
    "       'HS Graduation Date', 'SAT Verbal', 'SAT Math', 'SAT Writing','ACT English', 'ACT Math', 'ACT Soc Science',\n",
    "       'ACT Nat Science','B - Type Desc', 'B - Class Year',\n",
    "       'B - Time Status Code', 'B - Degree Code', 'B - Major1 Code',\n",
    "       'B - Major2 Code', 'B - Response Code', 'B - Response Desc',\n",
    "       'B - Response Date', 'B - Action Code', 'B - Action Desc',\n",
    "       'B - Action Date', 'B - Transfer College Code',\n",
    "       'B - Transfer College Name', 'B - Transfer GPA',\n",
    "       'B - Graduated College Name', 'Und Cohort First YT', # B = admissions\n",
    "       'Transfer Year Term', 'Cohort Major1 Disc Code',\n",
    "       'Cohort Major1 Dept Code', 'Cohort Major1 Code',\n",
    "       'Cohort Major2 Disc Code', 'Cohort Major2 Dept Code', # cohort = census \n",
    "       'Cohort Major2 Code', 'Degree Code', 'Degree Class Year',\n",
    "       'Degree Major1 Discipline Code', 'Degree Major1 Dept Code',\n",
    "       'Degree Major1 Code', 'Degree Major2 Discipline Code',\n",
    "       'Degree Major2 Dept Code', 'Degree Major2 Code', 'Degree Minor1 Code',\n",
    "       'Degree Minor2 Code', 'Degree Minor3 Code', 'Clust1 Code',\n",
    "       'Clust1 Dept Code', 'Clust2 Code', 'Clust2 Dept Code',\n",
    "       'Degree Honors Code'] , axis = 1)"
   ]
  },
  {
   "cell_type": "code",
   "execution_count": 8,
   "metadata": {},
   "outputs": [],
   "source": [
    "dataframe = pd.merge(df, courses, on='SubjectID')"
   ]
  },
  {
   "cell_type": "code",
   "execution_count": 9,
   "metadata": {},
   "outputs": [],
   "source": [
    "dataframe = pd.merge(dataframe, demo, on='SubjectID')"
   ]
  },
  {
   "cell_type": "markdown",
   "metadata": {},
   "source": [
    "Merged Dataframes"
   ]
  },
  {
   "cell_type": "code",
   "execution_count": 15,
   "metadata": {},
   "outputs": [
    {
     "data": {
      "text/plain": [
       "Index(['SubjectID', 'Year Term ID_x', 'Term GPA', 'Term Hrs Earned',\n",
       "       'Term Hrs GPA', 'Term Points Earned', 'Cumul GPA', 'Cumul Hrs Earned',\n",
       "       'Cumul Hrs GPA', 'Cumul Points Earned', 'Term Transfer Hrs',\n",
       "       'Year Term ID_y', 'Ps1 Timestat Code', 'Ps1 Ofcl Stat Flag',\n",
       "       'Ps1 Major1 Code', 'Ps1 Major2 Code', 'Ps2 Ofcl Stat Flag',\n",
       "       'Ps2 Major1 Code', 'Ps2 Major2 Code', 'Credit Hrs', 'Repeated Flag',\n",
       "       'Grade', 'Reported Grade', 'Dorm Area', 'Ps1 Acad Standing Desc',\n",
       "       'Gender', 'Citizen Country Name', 'First Generation Flag', 'Birthdate',\n",
       "       'HS City', 'SAT Total', 'ACT Composite', 'Degree Award Date',\n",
       "       'Degree Confer Date'],\n",
       "      dtype='object')"
      ]
     },
     "execution_count": 15,
     "metadata": {},
     "output_type": "execute_result"
    }
   ],
   "source": [
    "dataframe.columns"
   ]
  },
  {
   "cell_type": "code",
   "execution_count": 16,
   "metadata": {},
   "outputs": [],
   "source": [
    "dataframe = dataframe.drop_duplicates()"
   ]
  },
  {
   "cell_type": "code",
   "execution_count": null,
   "metadata": {},
   "outputs": [],
   "source": [
    "freshmen_gpa = {}"
   ]
  },
  {
   "cell_type": "code",
   "execution_count": null,
   "metadata": {},
   "outputs": [],
   "source": [
    "dataframe_heatmap['Ps1 Ofcl Stat Flag'].value_counts()"
   ]
  },
  {
   "cell_type": "markdown",
   "metadata": {},
   "source": [
    "Retrieving the first semester GPAs "
   ]
  },
  {
   "cell_type": "code",
   "execution_count": null,
   "metadata": {},
   "outputs": [],
   "source": [
    "for i in dataframe['SubjectID'].unique():\n",
    "    x = dataframe.loc[dataframe['SubjectID']==i]\n",
    "    freshmen_gpa.update({i: x['Cumul GPA'].iloc[0]})"
   ]
  },
  {
   "cell_type": "markdown",
   "metadata": {},
   "source": [
    "low freshmen = lower than 2 gpa on first semester\n",
    "one freshmen = lower than 1 gpa on first semester"
   ]
  },
  {
   "cell_type": "code",
   "execution_count": null,
   "metadata": {},
   "outputs": [],
   "source": [
    "low_freshmen = []\n",
    "One_freshmen = []\n",
    "for i,j in freshmen_gpa.items():\n",
    "    if(j<2.0):\n",
    "        low_freshmen.append(i)\n",
    "    if(j<1.0):\n",
    "        One_freshmen.append(i)"
   ]
  },
  {
   "cell_type": "code",
   "execution_count": null,
   "metadata": {},
   "outputs": [],
   "source": [
    "count = 0\n",
    "count_1 = 0\n",
    "for x in non_graduate['SubjectID'].unique():\n",
    "    if(x in low_freshmen):\n",
    "        count = count+1\n",
    "    if(x in One_freshmen):\n",
    "        count_1= count_1+1\n",
    "print(count)\n",
    "print(count_1)"
   ]
  },
  {
   "cell_type": "code",
   "execution_count": 18,
   "metadata": {},
   "outputs": [
    {
     "data": {
      "text/plain": [
       "0.9522184300341296"
      ]
     },
     "execution_count": 18,
     "metadata": {},
     "output_type": "execute_result"
    }
   ],
   "source": [
    "279/293 # 95 % of the students who got below 1.0 on first semester did not graduate"
   ]
  },
  {
   "cell_type": "code",
   "execution_count": 19,
   "metadata": {},
   "outputs": [
    {
     "data": {
      "text/plain": [
       "0.6922169811320755"
      ]
     },
     "execution_count": 19,
     "metadata": {},
     "output_type": "execute_result"
    }
   ],
   "source": [
    "587/848 # 70 % of the students who were below 2.0 in freshmen year/ first semester did not graduate"
   ]
  },
  {
   "cell_type": "markdown",
   "metadata": {},
   "source": [
    "Retrieving the dataset for students who graduated and did not graduate by degree confer date"
   ]
  },
  {
   "cell_type": "code",
   "execution_count": 10,
   "metadata": {},
   "outputs": [],
   "source": [
    "graduated = dataframe.loc[dataframe['Degree Confer Date'].isnull()==False]\n",
    "non_graduate = dataframe.loc[dataframe['Degree Confer Date'].isnull()==True]"
   ]
  },
  {
   "cell_type": "code",
   "execution_count": 14,
   "metadata": {},
   "outputs": [
    {
     "data": {
      "image/png": "[encoded data removed]",
      "text/plain": [
       "<Figure size 600x400 with 1 Axes>"
      ]
     },
     "metadata": {
      "needs_background": "light"
     },
     "output_type": "display_data"
    }
   ],
   "source": [
    "import matplotlib.pyplot as plt\n",
    "plt.figure(dpi= 100)\n",
    "plt.hist(graduated['Cumul GPA'])\n",
    "plt.show()"
   ]
  },
  {
   "cell_type": "code",
   "execution_count": 17,
   "metadata": {},
   "outputs": [
    {
     "data": {
      "image/png": "[encoded data removed]",
      "text/plain": [
       "<Figure size 600x400 with 1 Axes>"
      ]
     },
     "metadata": {
      "needs_background": "light"
     },
     "output_type": "display_data"
    }
   ],
   "source": [
    "plt.figure(dpi =100)\n",
    "plt.hist(non_graduate['Cumul GPA'])\n",
    "plt.show()"
   ]
  },
  {
   "cell_type": "code",
   "execution_count": 21,
   "metadata": {},
   "outputs": [],
   "source": [
    "count = 0 \n",
    "non_grad_dict = {}\n",
    "def gpa_dict(df, col1, col2, dictionary): #gets the final GPAs of the students. Insert dataframe\n",
    "    for i in df[col].unique():\n",
    "        count = count+1\n",
    "        perc = count/len(df[col].unique())\n",
    "        if(perc>.10==0):\n",
    "            print(perc)\n",
    "            count = 0\n",
    "        x = df.loc[df[col]==i]\n",
    "        dictionary.update({i: x[col2].iloc[len(x)-1]})"
   ]
  },
  {
   "cell_type": "code",
   "execution_count": 26,
   "metadata": {},
   "outputs": [],
   "source": [
    "import numpy as np"
   ]
  },
  {
   "cell_type": "markdown",
   "metadata": {},
   "source": [
    "checking if first generation flag has high correlation"
   ]
  },
  {
   "cell_type": "code",
   "execution_count": null,
   "metadata": {},
   "outputs": [],
   "source": [
    "non_graduate['First Generation Flag'].value_counts(normalize = True)"
   ]
  },
  {
   "cell_type": "code",
   "execution_count": null,
   "metadata": {},
   "outputs": [],
   "source": [
    "graduated['First Generation Flag'].value_counts(normalize = True)"
   ]
  },
  {
   "cell_type": "code",
   "execution_count": null,
   "metadata": {},
   "outputs": [],
   "source": [
    "non_graduate = non_graduate.drop(['Year Term ID_y', 'Cumul Points Earned', 'Term Transfer Hrs'], axis = 1)"
   ]
  },
  {
   "cell_type": "markdown",
   "metadata": {},
   "source": [
    "Printing data in order to have general idea of which columns show difference between non graduate and graduate group"
   ]
  },
  {
   "cell_type": "code",
   "execution_count": 31,
   "metadata": {},
   "outputs": [
    {
     "name": "stdout",
     "output_type": "stream",
     "text": [
      "Ps1 Timestat Code\n",
      "graduated\n",
      "F    0.975001\n",
      "P    0.013937\n",
      "X    0.011062\n",
      "Name: Ps1 Timestat Code, dtype: float64\n",
      "non graduate\n",
      "F    0.877803\n",
      "X    0.090714\n",
      "P    0.031483\n",
      "Name: Ps1 Timestat Code, dtype: float64\n",
      "Ps1 Ofcl Stat Flag\n",
      "graduated\n",
      "Y    0.602773\n",
      "N    0.397227\n",
      "Name: Ps1 Ofcl Stat Flag, dtype: float64\n",
      "non graduate\n",
      "N    0.648873\n",
      "Y    0.351127\n",
      "Name: Ps1 Ofcl Stat Flag, dtype: float64\n",
      "Ps1 Major1 Code\n",
      "graduated\n",
      "BIO    0.079637\n",
      "PSY    0.072475\n",
      "UNC    0.064885\n",
      "ECO    0.059736\n",
      "PSC    0.048726\n",
      "         ...   \n",
      "ECW    0.000030\n",
      "GSC    0.000018\n",
      "EMC    0.000012\n",
      "FL     0.000012\n",
      "PH     0.000007\n",
      "Name: Ps1 Major1 Code, Length: 98, dtype: float64\n",
      "non graduate\n",
      "UNC    0.125215\n",
      "BIO    0.106724\n",
      "PSC    0.056441\n",
      "PSY    0.050670\n",
      "ECO    0.048731\n",
      "         ...   \n",
      "EBA    0.000218\n",
      "CSA    0.000196\n",
      "BEN    0.000189\n",
      "CL     0.000163\n",
      "SOC    0.000131\n",
      "Name: Ps1 Major1 Code, Length: 88, dtype: float64\n",
      "Ps1 Major2 Code\n",
      "graduated\n",
      ".      0.916741\n",
      "PSY    0.007849\n",
      "AMU    0.007513\n",
      "ECO    0.006535\n",
      "PSC    0.005987\n",
      "         ...   \n",
      "EST    0.000034\n",
      "APM    0.000032\n",
      "BET    0.000021\n",
      "ME     0.000018\n",
      "BBC    0.000002\n",
      "Name: Ps1 Major2 Code, Length: 66, dtype: float64\n",
      "non graduate\n",
      ".      0.983248\n",
      "ENG    0.001502\n",
      "BCS    0.001332\n",
      "PSY    0.001247\n",
      "PSC    0.001122\n",
      "HIS    0.001052\n",
      "PHL    0.000978\n",
      "BIO    0.000898\n",
      "LIN    0.000830\n",
      "AMU    0.000813\n",
      "ECO    0.000728\n",
      "SA     0.000712\n",
      "IPA    0.000708\n",
      "IRL    0.000625\n",
      "SP     0.000569\n",
      "CHM    0.000540\n",
      "RLS    0.000464\n",
      "STT    0.000396\n",
      "JCM    0.000386\n",
      "MEI    0.000257\n",
      "FR     0.000197\n",
      "ATH    0.000193\n",
      "MEV    0.000174\n",
      "AH     0.000170\n",
      "HLS    0.000165\n",
      "BSB    0.000157\n",
      "FMS    0.000144\n",
      "MUS    0.000087\n",
      "JPN    0.000078\n",
      "MTH    0.000073\n",
      "FEC    0.000058\n",
      "EPD    0.000052\n",
      "AMS    0.000044\n",
      "Name: Ps1 Major2 Code, dtype: float64\n",
      "Ps2 Ofcl Stat Flag\n",
      "graduated\n",
      "Y    0.905477\n",
      "N    0.094523\n",
      "Name: Ps2 Ofcl Stat Flag, dtype: float64\n",
      "non graduate\n",
      "Y    0.9278\n",
      "N    0.0722\n",
      "Name: Ps2 Ofcl Stat Flag, dtype: float64\n",
      "Ps2 Major1 Code\n",
      "graduated\n",
      "MTH    0.136271\n",
      "AMU    0.084329\n",
      "PSY    0.068259\n",
      "ECO    0.054338\n",
      "PHY    0.053573\n",
      "         ...   \n",
      "ESP    0.000234\n",
      "AME    0.000234\n",
      "AAS    0.000167\n",
      "CSE    0.000058\n",
      "BUS    0.000040\n",
      "Name: Ps2 Major1 Code, Length: 80, dtype: float64\n",
      "non graduate\n",
      "CMP    0.221682\n",
      "AMU    0.107152\n",
      "CSC    0.083491\n",
      "PHY    0.055466\n",
      "CHM    0.051462\n",
      "BSB    0.050382\n",
      "MTH    0.049123\n",
      "IRL    0.047143\n",
      "ENG    0.046874\n",
      "BIO    0.030679\n",
      "BMB    0.029240\n",
      "MUS    0.028835\n",
      "PSY    0.027665\n",
      "DMS    0.024291\n",
      "LIN    0.022942\n",
      "BCS    0.020783\n",
      "RST    0.016374\n",
      "AH     0.016194\n",
      "FMS    0.014395\n",
      "APM    0.013765\n",
      "FEC    0.007872\n",
      "STT    0.007557\n",
      "BNS    0.007422\n",
      "BEB    0.006838\n",
      "BMG    0.005038\n",
      "FS     0.004678\n",
      "IDE    0.001799\n",
      "NON    0.000855\n",
      "Name: Ps2 Major1 Code, dtype: float64\n",
      "Ps2 Major2 Code\n",
      "graduated\n",
      ".      0.979507\n",
      "ECO    0.005004\n",
      "MEV    0.002715\n",
      "STT    0.002439\n",
      "MTH    0.001659\n",
      "PSC    0.001268\n",
      "RLS    0.000977\n",
      "PSY    0.000823\n",
      "AH     0.000823\n",
      "JPN    0.000669\n",
      "MST    0.000637\n",
      "PHY    0.000616\n",
      "IPA    0.000531\n",
      "TH     0.000467\n",
      "LIN    0.000340\n",
      "GER    0.000318\n",
      "ASL    0.000255\n",
      "CGS    0.000239\n",
      "FR     0.000239\n",
      "ENG    0.000175\n",
      "FEC    0.000170\n",
      "UNC    0.000133\n",
      "Name: Ps2 Major2 Code, dtype: float64\n",
      "non graduate\n",
      ".      0.996626\n",
      "MTH    0.003374\n",
      "Name: Ps2 Major2 Code, dtype: float64\n",
      "Repeated Flag\n",
      "graduated\n",
      "N    0.976717\n",
      "Y    0.023283\n",
      "Name: Repeated Flag, dtype: float64\n",
      "non graduate\n",
      "N    0.959665\n",
      "Y    0.040335\n",
      "Name: Repeated Flag, dtype: float64\n",
      "Grade\n",
      "graduated\n",
      "A      2.687144e-01\n",
      ".      2.225655e-01\n",
      "A-     1.230940e-01\n",
      "B+     9.471588e-02\n",
      "B      8.768325e-02\n",
      "B-     4.983632e-02\n",
      "C+     3.125412e-02\n",
      "C      3.000623e-02\n",
      "C-     1.593056e-02\n",
      "D      8.931156e-03\n",
      "E      7.382732e-03\n",
      "K      6.366226e-03\n",
      "D+     5.840574e-03\n",
      "W14    5.166671e-03\n",
      "P      4.384571e-03\n",
      "W11    3.739422e-03\n",
      "D-     3.016959e-03\n",
      "IE     2.990217e-03\n",
      "W15    2.188425e-03\n",
      "N      2.092984e-03\n",
      "IA     1.825012e-03\n",
      "W13    1.813040e-03\n",
      "W10    1.777571e-03\n",
      "IB     1.366717e-03\n",
      "W12    1.349934e-03\n",
      "WAT    1.306409e-03\n",
      "W09    1.302940e-03\n",
      "W08    1.301598e-03\n",
      "IB+    1.228087e-03\n",
      "CR     1.122017e-03\n",
      "IA-    1.089345e-03\n",
      "S      1.030268e-03\n",
      "W07    9.736529e-04\n",
      "IB-    9.046177e-04\n",
      "IC     8.369252e-04\n",
      "W06    7.147431e-04\n",
      "I      6.929249e-04\n",
      "W      6.134841e-04\n",
      "IC+    5.642532e-04\n",
      "WAD    5.263230e-04\n",
      "W05    5.225188e-04\n",
      "IC-    4.740712e-04\n",
      "ID     2.959448e-04\n",
      "DE     1.587696e-04\n",
      "ID+    1.338185e-04\n",
      "ID-    9.074149e-05\n",
      "ICR    2.562244e-05\n",
      "IP     1.846159e-05\n",
      "NC     1.275528e-05\n",
      "W04    8.951072e-06\n",
      "XE     7.272746e-06\n",
      "IS     4.027982e-06\n",
      "WP     2.909098e-06\n",
      "WD     2.013991e-06\n",
      "WC     1.118884e-06\n",
      "X      8.951072e-07\n",
      "Name: Grade, dtype: float64\n",
      "non graduate\n",
      ".      0.290701\n",
      "A      0.103920\n",
      "B      0.068586\n",
      "A-     0.062011\n",
      "B+     0.056377\n",
      "B-     0.048495\n",
      "C      0.046315\n",
      "C+     0.038696\n",
      "E      0.032501\n",
      "K      0.031597\n",
      "C-     0.030488\n",
      "D      0.022832\n",
      "IE     0.020168\n",
      "N      0.019834\n",
      "W14    0.013537\n",
      "D+     0.012027\n",
      "W11    0.009978\n",
      "W15    0.009262\n",
      "D-     0.008958\n",
      "I      0.008734\n",
      "WAT    0.005101\n",
      "WAD    0.004529\n",
      "W13    0.004247\n",
      "W10    0.004067\n",
      "W08    0.004028\n",
      "W07    0.003827\n",
      "IA     0.003800\n",
      "IB     0.003412\n",
      "W09    0.003385\n",
      "P      0.003200\n",
      "IB+    0.002711\n",
      "W12    0.002689\n",
      "IC     0.002509\n",
      "IB-    0.002326\n",
      "IA-    0.002075\n",
      "W      0.002033\n",
      "W06    0.001750\n",
      "IC+    0.001534\n",
      "IC-    0.001415\n",
      "W05    0.001216\n",
      "S      0.001119\n",
      "CR     0.001084\n",
      "ID     0.001056\n",
      "DE     0.000704\n",
      "ID-    0.000514\n",
      "ID+    0.000475\n",
      "W04    0.000052\n",
      "NC     0.000042\n",
      "W01    0.000026\n",
      "W02    0.000023\n",
      "IP     0.000015\n",
      "WC     0.000013\n",
      "X      0.000007\n",
      "Name: Grade, dtype: float64\n",
      "Reported Grade\n",
      "graduated\n",
      "A       0.268304\n",
      ".       0.228932\n",
      "A-      0.122543\n",
      "B+      0.093851\n",
      "B       0.086303\n",
      "B-      0.048695\n",
      "C+      0.030041\n",
      "C       0.028540\n",
      "C-      0.014810\n",
      "S       0.011010\n",
      "D       0.008044\n",
      "E       0.006488\n",
      "D+      0.005251\n",
      "W14     0.005167\n",
      "P       0.004385\n",
      "W11     0.003739\n",
      "I/E     0.002774\n",
      "D-      0.002660\n",
      "W15     0.002188\n",
      "N       0.002094\n",
      "I/A     0.001823\n",
      "W13     0.001813\n",
      "W10     0.001778\n",
      "W12     0.001350\n",
      "I/B     0.001350\n",
      "WAT     0.001306\n",
      "W09     0.001303\n",
      "W08     0.001302\n",
      "I/B+    0.001220\n",
      "CR      0.001122\n",
      "I/A-    0.001085\n",
      "W07     0.000974\n",
      "I/B-    0.000895\n",
      "F       0.000895\n",
      "I/C     0.000823\n",
      "W06     0.000715\n",
      "I       0.000693\n",
      "W       0.000613\n",
      "I/C+    0.000558\n",
      "WAD     0.000526\n",
      "W05     0.000523\n",
      "I/C-    0.000438\n",
      "I/D     0.000279\n",
      "I/F     0.000217\n",
      "DE      0.000159\n",
      "I/S     0.000134\n",
      "I/D+    0.000128\n",
      "I/D-    0.000079\n",
      "I/CR    0.000026\n",
      "I/P     0.000018\n",
      "NC      0.000013\n",
      "W04     0.000009\n",
      "XE      0.000007\n",
      "WP      0.000003\n",
      "WD      0.000002\n",
      "WC      0.000001\n",
      "Name: Reported Grade, dtype: float64\n",
      "non graduate\n",
      ".       0.322298\n",
      "A       0.103814\n",
      "B       0.068120\n",
      "A-      0.061861\n",
      "B+      0.055899\n",
      "B-      0.047933\n",
      "C       0.045234\n",
      "C+      0.037661\n",
      "E       0.029562\n",
      "C-      0.029009\n",
      "D       0.020937\n",
      "N       0.019841\n",
      "I/E     0.018805\n",
      "W14     0.013537\n",
      "D+      0.011343\n",
      "W11     0.009978\n",
      "S       0.009743\n",
      "W15     0.009262\n",
      "I       0.008734\n",
      "D-      0.008268\n",
      "WAT     0.005101\n",
      "WAD     0.004529\n",
      "W13     0.004247\n",
      "W10     0.004067\n",
      "W08     0.004028\n",
      "W07     0.003827\n",
      "I/A     0.003786\n",
      "I/B     0.003397\n",
      "W09     0.003385\n",
      "P       0.003200\n",
      "F       0.002939\n",
      "W12     0.002689\n",
      "I/B+    0.002590\n",
      "I/C     0.002451\n",
      "I/A-    0.002055\n",
      "W       0.002033\n",
      "I/B-    0.001997\n",
      "W06     0.001750\n",
      "I/C+    0.001521\n",
      "I/C-    0.001403\n",
      "I/F     0.001363\n",
      "W05     0.001216\n",
      "CR      0.001084\n",
      "I/D     0.000984\n",
      "DE      0.000704\n",
      "I/S     0.000678\n",
      "I/D-    0.000514\n",
      "I/D+    0.000451\n",
      "W04     0.000052\n",
      "NC      0.000042\n",
      "W01     0.000026\n",
      "W02     0.000023\n",
      "I/P     0.000015\n",
      "WC      0.000013\n",
      "Name: Reported Grade, dtype: float64\n",
      "Dorm Area\n",
      "graduated\n",
      ".                  0.236074\n",
      "QUAD               0.221199\n",
      "SUSAN B ANTHONY    0.118829\n",
      "JACKSON COURT      0.114227\n",
      "HILL COURT         0.106405\n",
      "SOUTH CAMPUS       0.083224\n",
      "RIVERVIEW          0.044720\n",
      "EASTMAN            0.039831\n",
      "FRATERNITIES       0.035183\n",
      "OTHER              0.000307\n",
      "Name: Dorm Area, dtype: float64\n",
      "non graduate\n",
      ".                  0.374561\n",
      "QUAD               0.202157\n",
      "SUSAN B ANTHONY    0.121921\n",
      "JACKSON COURT      0.087163\n",
      "SOUTH CAMPUS       0.086002\n",
      "HILL COURT         0.052863\n",
      "FRATERNITIES       0.029401\n",
      "EASTMAN            0.023447\n",
      "RIVERVIEW          0.021807\n",
      "OTHER              0.000678\n",
      "Name: Dorm Area, dtype: float64\n",
      "Ps1 Acad Standing Desc\n",
      "graduated\n",
      "ACTIVE                      0.937185\n",
      "PROBATION                   0.061762\n",
      "ESM LETTER OF CONCERN       0.000474\n",
      "ESM LESSON PROBATION        0.000162\n",
      "REMOVE PROBATION            0.000156\n",
      "ESM JURY PROBATION          0.000126\n",
      "ESM FIN AID ACAD WARNING    0.000063\n",
      "MERIT AID DECREASE          0.000035\n",
      "ESM ESL PROBATION           0.000028\n",
      "GRADUATING-TERMINAL         0.000010\n",
      "Name: Ps1 Acad Standing Desc, dtype: float64\n",
      "non graduate\n",
      "ACTIVE                      0.713816\n",
      "PROBATION                   0.284328\n",
      "ESM LETTER OF CONCERN       0.000757\n",
      "ESM LESSON PROBATION        0.000425\n",
      "ESM FIN AID ACAD WARNING    0.000247\n",
      "ESM MUE PROBATION           0.000168\n",
      "REMOVE PROBATION            0.000126\n",
      "ESM GRAD PROBATION          0.000112\n",
      "GRADUATING-TERMINAL         0.000020\n",
      "Name: Ps1 Acad Standing Desc, dtype: float64\n",
      "Gender\n",
      "graduated\n",
      "M    0.522223\n",
      "F    0.477777\n",
      "Name: Gender, dtype: float64\n",
      "non graduate\n",
      "M    0.665411\n",
      "F    0.334583\n",
      ".    0.000006\n",
      "Name: Gender, dtype: float64\n",
      "Citizen Country Name\n",
      "graduated\n",
      "USA                0.851128\n",
      "CHINA              0.039641\n",
      "SOUTH KOREA        0.025319\n",
      "INDIA              0.009999\n",
      "AMERICAN ABROAD    0.008782\n",
      "                     ...   \n",
      "IRELAND            0.000033\n",
      "SEYCHELLES         0.000032\n",
      "ITALY              0.000032\n",
      "MACEDONIA          0.000031\n",
      "GUINEA             0.000030\n",
      "Name: Citizen Country Name, Length: 133, dtype: float64\n",
      "non graduate\n",
      "USA                0.855104\n",
      "CHINA              0.027230\n",
      "SOUTH KOREA        0.024778\n",
      "AMERICAN ABROAD    0.013179\n",
      "INDIA              0.009232\n",
      "                     ...   \n",
      "ANTIGUA            0.000032\n",
      "SAUDI ARABIA       0.000032\n",
      "FRANCE             0.000032\n",
      "CYPRUS             0.000032\n",
      "BULGARIA           0.000006\n",
      "Name: Citizen Country Name, Length: 70, dtype: float64\n",
      "First Generation Flag\n",
      "graduated\n",
      "N    0.991028\n",
      "Y    0.008972\n",
      "Name: First Generation Flag, dtype: float64\n",
      "non graduate\n",
      "N    0.989138\n",
      "Y    0.010862\n",
      "Name: First Generation Flag, dtype: float64\n",
      "Birthdate\n",
      "graduated\n",
      "3/17/78 0:00     1.531165e-03\n",
      "3/5/83 0:00      1.410431e-03\n",
      "7/4/85 0:00      1.364218e-03\n",
      "1/25/78 0:00     1.346315e-03\n",
      "8/6/80 0:00      1.336133e-03\n",
      "                     ...     \n",
      "12/30/75 0:00    2.237891e-06\n",
      "8/3/78 0:00      1.790313e-06\n",
      "2/20/61 0:00     2.237891e-07\n",
      "6/23/63 0:00     2.237891e-07\n",
      "8/29/64 0:00     1.118945e-07\n",
      "Name: Birthdate, Length: 6172, dtype: float64\n",
      "non graduate\n",
      "9/18/87 0:00    0.032324\n",
      "7/2/74 0:00     0.013792\n",
      "2/25/80 0:00    0.010605\n",
      "4/6/87 0:00     0.010048\n",
      "7/23/78 0:00    0.008451\n",
      "                  ...   \n",
      "2/22/83 0:00    0.000001\n",
      "1/14/86 0:00    0.000001\n",
      "9/3/72 0:00     0.000001\n",
      "7/14/93 0:00    0.000001\n",
      "6/22/83 0:00    0.000001\n",
      "Name: Birthdate, Length: 2516, dtype: float64\n",
      "HS City\n",
      "graduated\n",
      "                      0.064227\n",
      "Rochester             0.057922\n",
      "New York              0.028099\n",
      "Pittsford             0.019488\n",
      "Brooklyn              0.015688\n",
      "                        ...   \n",
      "Arroyo Grande         0.000009\n",
      "Redondo Beach         0.000009\n",
      "Great Mills           0.000009\n",
      "Turlock               0.000008\n",
      "Morgantown            0.000007\n",
      "Name: HS City, Length: 2398, dtype: float64\n",
      "non graduate\n",
      "Rochester             0.074101\n",
      "                      0.066701\n",
      "New York              0.034632\n",
      "Pearsall              0.032284\n",
      "Bronx                 0.030243\n",
      "                        ...   \n",
      "Limon                 0.000001\n",
      "Sioux Falls           0.000001\n",
      "Kingsley              0.000001\n",
      "Ft Collins            0.000001\n",
      "Carrollton            0.000001\n",
      "Name: HS City, Length: 1127, dtype: float64\n",
      "Degree Award Date\n",
      "graduated\n",
      "5/18/14 0:00    0.064562\n",
      "5/15/16 0:00    0.062588\n",
      "5/17/15 0:00    0.061206\n",
      "5/20/12 0:00    0.056881\n",
      "5/16/10 0:00    0.056767\n",
      "                  ...   \n",
      "5/16/11 0:00    0.000045\n",
      "7/31/08 0:00    0.000039\n",
      "5/14/99 0:00    0.000028\n",
      "8/31/98 0:00    0.000022\n",
      "5/25/97 0:00    0.000010\n",
      "Name: Degree Award Date, Length: 82, dtype: float64\n",
      "non graduate\n",
      "5/19/13 0:00    0.079721\n",
      "5/15/11 0:00    0.079067\n",
      "5/18/14 0:00    0.078054\n",
      "5/14/00 0:00    0.077008\n",
      "5/20/12 0:00    0.074433\n",
      "5/15/05 0:00    0.072442\n",
      "5/18/08 0:00    0.070028\n",
      "5/17/15 0:00    0.057669\n",
      "5/16/10 0:00    0.056973\n",
      "5/20/07 0:00    0.056657\n",
      "5/19/19 0:00    0.043117\n",
      "5/18/03 0:00    0.040877\n",
      "5/17/09 0:00    0.037634\n",
      "5/15/16 0:00    0.036148\n",
      "5/20/01 0:00    0.029994\n",
      "5/21/06 0:00    0.023293\n",
      "8/31/16 0:00    0.021005\n",
      "5/16/99 0:00    0.014398\n",
      "5/17/98 0:00    0.011636\n",
      "5/19/02 0:00    0.011490\n",
      "5/20/18 0:00    0.009524\n",
      "8/31/15 0:00    0.007152\n",
      "5/22/94 0:00    0.004789\n",
      "5/23/93 0:00    0.004199\n",
      "5/25/97 0:00    0.001551\n",
      "5/26/91 0:00    0.001142\n",
      "Name: Degree Award Date, dtype: float64\n",
      "Degree Confer Date\n",
      "graduated\n",
      "5/18/14 0:00     0.063338\n",
      "5/15/16 0:00     0.063089\n",
      "5/17/15 0:00     0.062384\n",
      "5/20/12 0:00     0.056840\n",
      "5/15/11 0:00     0.056556\n",
      "                   ...   \n",
      "10/14/99 0:00    0.000041\n",
      "10/10/10 0:00    0.000040\n",
      "8/31/12 0:00     0.000039\n",
      "10/16/08 0:00    0.000038\n",
      "2/11/99 0:00     0.000022\n",
      "Name: Degree Confer Date, Length: 87, dtype: float64\n",
      "non graduate\n",
      "Series([], Name: Degree Confer Date, dtype: float64)\n"
     ]
    }
   ],
   "source": [
    "for i in graduated.select_dtypes(include=[object]):\n",
    "    print(i)\n",
    "    print('graduated')\n",
    "    print(graduated[i].value_counts(normalize = True))\n",
    "    print('non graduate')\n",
    "    print(non_graduate[i].value_counts(normalize = True))"
   ]
  },
  {
   "cell_type": "markdown",
   "metadata": {},
   "source": [
    "Checking general numbers of students"
   ]
  },
  {
   "cell_type": "code",
   "execution_count": 32,
   "metadata": {},
   "outputs": [
    {
     "data": {
      "text/plain": [
       "20387"
      ]
     },
     "execution_count": 32,
     "metadata": {},
     "output_type": "execute_result"
    }
   ],
   "source": [
    "len(dataframe['SubjectID'].unique())"
   ]
  },
  {
   "cell_type": "code",
   "execution_count": 33,
   "metadata": {},
   "outputs": [
    {
     "data": {
      "text/plain": [
       "20879"
      ]
     },
     "execution_count": 33,
     "metadata": {},
     "output_type": "execute_result"
    }
   ],
   "source": [
    "len(courses['SubjectID'].unique())"
   ]
  },
  {
   "cell_type": "code",
   "execution_count": 34,
   "metadata": {},
   "outputs": [
    {
     "data": {
      "text/plain": [
       "21921"
      ]
     },
     "execution_count": 34,
     "metadata": {},
     "output_type": "execute_result"
    }
   ],
   "source": [
    "len(demo ['SubjectID'].unique())"
   ]
  },
  {
   "cell_type": "code",
   "execution_count": null,
   "metadata": {},
   "outputs": [],
   "source": [
    "test_value_list = test['SubjectID'].value_counts().to_dict()"
   ]
  },
  {
   "cell_type": "code",
   "execution_count": null,
   "metadata": {},
   "outputs": [],
   "source": [
    "value_list = {}"
   ]
  },
  {
   "cell_type": "code",
   "execution_count": null,
   "metadata": {},
   "outputs": [],
   "source": [
    "value_list = df['SubjectID'].value_counts().to_dict()"
   ]
  },
  {
   "cell_type": "code",
   "execution_count": null,
   "metadata": {},
   "outputs": [],
   "source": [
    "value_list"
   ]
  },
  {
   "cell_type": "code",
   "execution_count": null,
   "metadata": {},
   "outputs": [],
   "source": [
    "plt.hist(value_list.values())"
   ]
  },
  {
   "cell_type": "markdown",
   "metadata": {},
   "source": [
    "Process of classifying the student groups"
   ]
  },
  {
   "cell_type": "code",
   "execution_count": null,
   "metadata": {},
   "outputs": [],
   "source": [
    "for i,j in value_list.items():\n",
    "    if(j>12):\n",
    "        longer.append(i)"
   ]
  },
  {
   "cell_type": "code",
   "execution_count": null,
   "metadata": {},
   "outputs": [],
   "source": [
    "for i,j in test_value_list.items():\n",
    "    if(j>8):\n",
    "        test_longer.append(i)"
   ]
  },
  {
   "cell_type": "code",
   "execution_count": null,
   "metadata": {},
   "outputs": [],
   "source": [
    "df['classification'] = False"
   ]
  },
  {
   "cell_type": "code",
   "execution_count": null,
   "metadata": {},
   "outputs": [],
   "source": [
    "df['classification'].value_counts()"
   ]
  },
  {
   "cell_type": "code",
   "execution_count": null,
   "metadata": {},
   "outputs": [],
   "source": [
    "df.loc[df[\"SubjectID\"].isin(longer), 'classification'] = True"
   ]
  },
  {
   "cell_type": "code",
   "execution_count": null,
   "metadata": {},
   "outputs": [],
   "source": [
    "df['classification'].value_counts()"
   ]
  },
  {
   "cell_type": "code",
   "execution_count": null,
   "metadata": {},
   "outputs": [],
   "source": [
    "longer_students = df.loc[df['classification']==True]"
   ]
  },
  {
   "cell_type": "code",
   "execution_count": null,
   "metadata": {},
   "outputs": [],
   "source": [
    "normal_students= df.loc[df['classification']==False]"
   ]
  },
  {
   "cell_type": "code",
   "execution_count": null,
   "metadata": {},
   "outputs": [],
   "source": [
    "longer_students.columns"
   ]
  },
  {
   "cell_type": "markdown",
   "metadata": {},
   "source": [
    "Finding out the gpa difference between the normal students and students who take longer"
   ]
  },
  {
   "cell_type": "code",
   "execution_count": null,
   "metadata": {},
   "outputs": [],
   "source": [
    "ls_gpa = []\n",
    "ns_gpa = []"
   ]
  },
  {
   "cell_type": "code",
   "execution_count": null,
   "metadata": {},
   "outputs": [],
   "source": [
    "len(longer_students)"
   ]
  },
  {
   "cell_type": "code",
   "execution_count": null,
   "metadata": {},
   "outputs": [],
   "source": [
    "len(graduated['SubjectID'].unique())"
   ]
  },
  {
   "cell_type": "code",
   "execution_count": null,
   "metadata": {},
   "outputs": [],
   "source": [
    "len(non_graduate['SubjectID'].unique())"
   ]
  },
  {
   "cell_type": "code",
   "execution_count": null,
   "metadata": {},
   "outputs": [],
   "source": [
    "for i in range(0,len(longer_students['SubjectID'])-1):\n",
    "    if (longer_students['SubjectID'].iloc[i]!=longer_students['SubjectID'].iloc[i+1]):\n",
    "        ls_gpa.append(longer_students['Cumul GPA'].iloc[i])"
   ]
  },
  {
   "cell_type": "code",
   "execution_count": null,
   "metadata": {},
   "outputs": [],
   "source": [
    "for i in range(0,len(normal_students['SubjectID'])-1):\n",
    "    if (normal_students['SubjectID'].iloc[i]!=normal_students['SubjectID'].iloc[i+1]):\n",
    "        ns_gpa.append(normal_students['Cumul GPA'].iloc[i])"
   ]
  },
  {
   "cell_type": "code",
   "execution_count": null,
   "metadata": {},
   "outputs": [],
   "source": [
    "np.mean(ls_gpa)"
   ]
  },
  {
   "cell_type": "code",
   "execution_count": null,
   "metadata": {},
   "outputs": [],
   "source": [
    "np.mean(ns_gpa)"
   ]
  },
  {
   "cell_type": "code",
   "execution_count": null,
   "metadata": {},
   "outputs": [],
   "source": [
    "np.median(ns_gpa)"
   ]
  },
  {
   "cell_type": "code",
   "execution_count": null,
   "metadata": {},
   "outputs": [],
   "source": [
    "np.median(ls_gpa)"
   ]
  },
  {
   "cell_type": "code",
   "execution_count": null,
   "metadata": {},
   "outputs": [],
   "source": [
    "halfstd =np.std(all_gpa)/2"
   ]
  },
  {
   "cell_type": "code",
   "execution_count": null,
   "metadata": {},
   "outputs": [],
   "source": [
    "halfstd"
   ]
  },
  {
   "cell_type": "markdown",
   "metadata": {},
   "source": [
    "Classifying the Groups "
   ]
  },
  {
   "cell_type": "code",
   "execution_count": null,
   "metadata": {},
   "outputs": [],
   "source": [
    "classified_dataframe = dataframe.copy()"
   ]
  },
  {
   "cell_type": "code",
   "execution_count": null,
   "metadata": {},
   "outputs": [],
   "source": [
    "classified_dataframe = classified_dataframe.drop(['First Generation Flag', 'Birthdate','Term Hrs Earned',\n",
    "       'Term Hrs GPA', 'Term Points Earned','Ps1 Ofcl Stat Flag', 'Cumul Points Earned'], axis =1)"
   ]
  },
  {
   "cell_type": "code",
   "execution_count": null,
   "metadata": {},
   "outputs": [],
   "source": [
    "classified_dataframe['Classification']= ' '"
   ]
  },
  {
   "cell_type": "code",
   "execution_count": null,
   "metadata": {},
   "outputs": [],
   "source": [
    "notgrad = non_graduate['SubjectID'].unique()"
   ]
  },
  {
   "cell_type": "markdown",
   "metadata": {},
   "source": [
    "Used this for classified dataframe ( which includes the summer semester as one course, thus changing the classification of the students) and df_drop_summer. There was a significant difference between the percentage of classification groups, such as the number of normal students decreaseing to 50% range. "
   ]
  },
  {
   "cell_type": "code",
   "execution_count": null,
   "metadata": {},
   "outputs": [],
   "source": [
    "normal_dropped = []\n",
    "nine_plus_dropped= []\n",
    "tw_plus_dropped = []\n",
    "count = 0\n",
    "for i in df_drop_summer['SubjectID'].unique():\n",
    "    count= count+1\n",
    "    if(count/len(df_drop_summer['SubjectID'].unique())>.1):\n",
    "        print('10%')\n",
    "        count=0\n",
    "    x= df_drop_summer.loc[df_drop_summer['SubjectID']==i]\n",
    "    if(len(x['Year Term ID_x'].unique())<=8):\n",
    "        normal_dropped.append(i)\n",
    "    elif(len(x['Year Term ID_x'].unique())>=9 and len(x['Year Term ID_x'].unique())<13):\n",
    "        nine_plus_dropped.append(i)\n",
    "    elif(len(x['Year Term ID_x'].unique())>=13):\n",
    "        tw_plus_dropped.append(i)"
   ]
  },
  {
   "cell_type": "code",
   "execution_count": null,
   "metadata": {},
   "outputs": [],
   "source": [
    "classified_dataframe.loc[classified_dataframe[\"SubjectID\"].isin(normal), 'Classification'] = 4\n",
    "classified_dataframe.loc[classified_dataframe[\"SubjectID\"].isin(nine_twelve), 'Classification'] = 3\n",
    "classified_dataframe.loc[classified_dataframe[\"SubjectID\"].isin(twelve_plus), 'Classification'] = 2\n",
    "classified_dataframe.loc[classified_dataframe[\"SubjectID\"].isin(notgrad), 'Classification'] = 1"
   ]
  },
  {
   "cell_type": "markdown",
   "metadata": {},
   "source": [
    "The plottings are archived"
   ]
  },
  {
   "cell_type": "code",
   "execution_count": null,
   "metadata": {},
   "outputs": [],
   "source": [
    "labels = 'Normal', '9-12', '13+', 'Non Graduate'\n",
    "sizes = [15079, 2463, 123, 2724]\n",
    "colors = ['gold', 'yellowgreen', 'lightcoral', 'lightskyblue']\n",
    "explode = (0.3, 0, 0, 0)  # explode 1st slice\n",
    "\n",
    "# Plot\n",
    "plt.figure(dpi = 150)\n",
    "plt.pie(sizes, explode=explode, labels=labels, colors=colors,\n",
    "autopct='%1.1f%%', shadow=True, startangle=140)\n",
    "\n",
    "plt.axis('equal')\n",
    "plt.title('Students breakdown not counting summer')\n",
    "plt.show()"
   ]
  },
  {
   "cell_type": "code",
   "execution_count": null,
   "metadata": {},
   "outputs": [],
   "source": [
    "labels = 'Normal', '9-12', '13+', 'Non Graduate'\n",
    "sizes = [11267, 6058, 340, 2724]\n",
    "colors = ['gold', 'yellowgreen', 'lightcoral', 'lightskyblue']\n",
    "explode = (0.3, 0, 0, 0)  # explode 1st slice\n",
    "\n",
    "# Plot\n",
    "plt.figure(dpi = 150)\n",
    "plt.pie(sizes, explode=explode, labels=labels, colors=colors,\n",
    "autopct='%1.1f%%', shadow=True, startangle=140)\n",
    "\n",
    "plt.axis('equal')\n",
    "plt.title('Students breakdown counting summer')\n",
    "plt.show()"
   ]
  },
  {
   "cell_type": "markdown",
   "metadata": {},
   "source": [
    "Making df_drop_summer dataframe. This is the main dataframe that is going to be used in the future"
   ]
  },
  {
   "cell_type": "code",
   "execution_count": null,
   "metadata": {},
   "outputs": [],
   "source": [
    "year_Term = []"
   ]
  },
  {
   "cell_type": "code",
   "execution_count": null,
   "metadata": {},
   "outputs": [],
   "source": [
    "for i in classified_dataframe['Year Term ID_x'].unique():\n",
    "    year_Term.append(str(i))"
   ]
  },
  {
   "cell_type": "code",
   "execution_count": null,
   "metadata": {},
   "outputs": [],
   "source": [
    "summer = []"
   ]
  },
  {
   "cell_type": "code",
   "execution_count": null,
   "metadata": {},
   "outputs": [],
   "source": [
    "for i in year_Term:\n",
    "    if(i[4]=='4'):\n",
    "        summer.append(float(i))"
   ]
  },
  {
   "cell_type": "code",
   "execution_count": null,
   "metadata": {},
   "outputs": [],
   "source": [
    "df_drop_summer = classified_dataframe.loc[~classified_dataframe['Year Term ID_x'].isin(summer)]"
   ]
  },
  {
   "cell_type": "code",
   "execution_count": null,
   "metadata": {},
   "outputs": [],
   "source": [
    "df_drop_summer.groupby(['Classification']).median()"
   ]
  },
  {
   "cell_type": "code",
   "execution_count": null,
   "metadata": {},
   "outputs": [],
   "source": [
    "df_drop_summer.loc[df_drop_summer[\"SubjectID\"].isin(normal_dropped), 'Classification'] = 4\n",
    "df_drop_summer.loc[df_drop_summer[\"SubjectID\"].isin(nine_plus_dropped), 'Classification'] = 3\n",
    "df_drop_summer.loc[df_drop_summer[\"SubjectID\"].isin(tw_plus_dropped), 'Classification'] = 2\n",
    "df_drop_summer.loc[df_drop_summer[\"SubjectID\"].isin(notgrad), 'Classification'] = 1"
   ]
  },
  {
   "cell_type": "code",
   "execution_count": null,
   "metadata": {},
   "outputs": [],
   "source": [
    "len(df_drop_summer[\"SubjectID\"].unique())\n",
    "print(len(normal_dropped))\n",
    "print(len(nine_plus_dropped))\n",
    "print(len(tw_plus_dropped))\n",
    "print(len(notgrad))\n",
    "print(len(graduated['SubjectID'].unique()))\n",
    "print(len(df_drop_summer['SubjectID'].unique()))"
   ]
  },
  {
   "cell_type": "markdown",
   "metadata": {},
   "source": [
    "saving dataframe for distribution"
   ]
  },
  {
   "cell_type": "code",
   "execution_count": null,
   "metadata": {},
   "outputs": [],
   "source": [
    "classified_dataframe.to_csv('classified_dataframe')"
   ]
  },
  {
   "cell_type": "code",
   "execution_count": null,
   "metadata": {},
   "outputs": [],
   "source": [
    "Normal = classified_dataframe.loc[classified_dataframe['Classification']=='N']\n",
    "NineTwelve = classified_dataframe.loc[classified_dataframe['Classification']=='NT']\n",
    "TwelvePlus = classified_dataframe.loc[classified_dataframe['Classification']=='TP']\n",
    "NonGrad = classified_dataframe.loc[classified_dataframe['Classification']=='NG']"
   ]
  },
  {
   "cell_type": "markdown",
   "metadata": {},
   "source": [
    "Dividing the dataframes for analysis"
   ]
  },
  {
   "cell_type": "code",
   "execution_count": null,
   "metadata": {},
   "outputs": [],
   "source": [
    "classified_dataframe = classified_dataframe.drop(['classification'], axis = 1)"
   ]
  },
  {
   "cell_type": "code",
   "execution_count": null,
   "metadata": {},
   "outputs": [],
   "source": [
    "Normal_lowfresh = Normal.loc[Normal['SubjectID'].isin(low_freshmen)]"
   ]
  },
  {
   "cell_type": "code",
   "execution_count": null,
   "metadata": {},
   "outputs": [],
   "source": [
    "NineTwelve_lowfresh = NineTwelve.loc[NineTwelve['SubjectID'].isin(low_freshmen)]\n",
    "TwelvePlus_lowfresh = TwelvePlus.loc[TwelvePlus['SubjectID'].isin(low_freshmen)]\n",
    "NonGrad_lowfresh = NonGrad.loc[NonGrad['SubjectID'].isin(low_freshmen)]"
   ]
  },
  {
   "cell_type": "code",
   "execution_count": null,
   "metadata": {},
   "outputs": [],
   "source": [
    "Normal_Onefresh = Normal.loc[Normal['SubjectID'].isin(One_freshmen)]\n",
    "NineTwelve_Onefresh = NineTwelve.loc[NineTwelve['SubjectID'].isin(One_freshmen)]\n",
    "TwelvePlus_Onefresh = TwelvePlus.loc[TwelvePlus['SubjectID'].isin(One_freshmen)]\n",
    "NonGrad_Onefresh = NonGrad.loc[NonGrad['SubjectID'].isin(One_freshmen)]"
   ]
  },
  {
   "cell_type": "code",
   "execution_count": null,
   "metadata": {},
   "outputs": [],
   "source": [
    "len(Normal_lowfresh['SubjectID'].unique())"
   ]
  },
  {
   "cell_type": "code",
   "execution_count": null,
   "metadata": {},
   "outputs": [],
   "source": [
    "print(len(NineTwelve_lowfresh['SubjectID'].unique()))\n",
    "print(len(TwelvePlus_lowfresh['SubjectID'].unique()))\n",
    "print(len(NonGrad_lowfresh['SubjectID'].unique()))"
   ]
  },
  {
   "cell_type": "code",
   "execution_count": null,
   "metadata": {},
   "outputs": [],
   "source": [
    "labels = 'Normal', '9-12', '13+', 'Non Graduate'\n",
    "sizes = [7, 5, 5, 276]\n",
    "colors = ['gold', 'yellowgreen', 'lightcoral', 'lightskyblue']\n",
    "explode = (0, 0, 0, 0.1)  # explode 1st slice\n",
    "\n",
    "# Plot\n",
    "plt.figure(dpi = 150)\n",
    "plt.pie(sizes, explode=explode, labels=labels, colors=colors,\n",
    "autopct='%1.1f%%', shadow=True, startangle=140)\n",
    "\n",
    "plt.axis('equal')\n",
    "plt.title('Students with less than 1.0 gpa first semester break down')\n",
    "plt.show()"
   ]
  },
  {
   "cell_type": "code",
   "execution_count": null,
   "metadata": {},
   "outputs": [],
   "source": [
    "print(len(Normal_Onefresh['SubjectID'].unique()))\n",
    "print(len(NineTwelve_Onefresh['SubjectID'].unique()))\n",
    "print(len(TwelvePlus_Onefresh['SubjectID'].unique()))\n",
    "print(len(NonGrad_Onefresh['SubjectID'].unique()))"
   ]
  },
  {
   "cell_type": "code",
   "execution_count": null,
   "metadata": {},
   "outputs": [],
   "source": [
    "print(len(Normal_lowfresh['SubjectID'].unique())/len(Normal['SubjectID'].unique()))\n",
    "print(len(NineTwelve_lowfresh['SubjectID'].unique())/len(NineTwelve['SubjectID'].unique()))\n",
    "print(len(TwelvePlus_lowfresh['SubjectID'].unique())/len(TwelvePlus['SubjectID'].unique()))\n",
    "print(len(NonGrad_lowfresh['SubjectID'].unique())/len(NonGrad['SubjectID'].unique()))"
   ]
  },
  {
   "cell_type": "code",
   "execution_count": null,
   "metadata": {},
   "outputs": [],
   "source": [
    "122+138+32+556"
   ]
  },
  {
   "cell_type": "code",
   "execution_count": null,
   "metadata": {},
   "outputs": [],
   "source": [
    "labels = 'Normal', '9-12', '13+', 'Non Graduate'\n",
    "sizes = [122, 138, 32, 556]\n",
    "colors = ['gold', 'yellowgreen', 'lightcoral', 'lightskyblue']\n",
    "explode = (0, 0, 0, 0.1)  # explode 1st slice\n",
    "\n",
    "# Plot\n",
    "plt.figure(dpi = 150)\n",
    "plt.pie(sizes, explode=explode, labels=labels, colors=colors,\n",
    "autopct='%1.1f%%', shadow=True, startangle=140)\n",
    "\n",
    "plt.axis('equal')\n",
    "plt.title('Students with less than 2.0 gpa first semester break down')\n",
    "plt.show() #summer into consideration"
   ]
  },
  {
   "cell_type": "code",
   "execution_count": null,
   "metadata": {},
   "outputs": [],
   "source": [
    "print(122/848) #normal\n",
    "print(138/848) #nineTwelve\n",
    "print(32/848) #TwelvePlus\n",
    "print(556/848) #nongrad. It can be guessed that if the person with low freshmen grade does not graduate\n",
    "#within 6 years, the person is going to not graduate at all. "
   ]
  },
  {
   "cell_type": "markdown",
   "metadata": {},
   "source": [
    "Custom Labeling "
   ]
  },
  {
   "cell_type": "code",
   "execution_count": null,
   "metadata": {},
   "outputs": [],
   "source": [
    "classified_dataframe.loc[classified_dataframe['Degree A ward Date'].isnull(), 'Degree Award Date']=0\n",
    "classified_dataframe.loc[classified_dataframe['Degree Award Date'].isnull()==False, 'Degree Award Date']=1"
   ]
  },
  {
   "cell_type": "code",
   "execution_count": null,
   "metadata": {},
   "outputs": [],
   "source": [
    "classified_dataframe.loc[classified_dataframe['Degree Confer Date'].isnull(), 'Degree Confer Date']=0\n",
    "classified_dataframe.loc[classified_dataframe['Degree Confer Date'].isnull()==False, 'Degree Confer Date']=1"
   ]
  },
  {
   "cell_type": "code",
   "execution_count": null,
   "metadata": {},
   "outputs": [],
   "source": [
    "classified_dataframe['Degree Award Date']=dataframe['Degree Award Date']\n",
    "classified_dataframe['Degree Confer Date']=dataframe['Degree Confer Date']"
   ]
  },
  {
   "cell_type": "code",
   "execution_count": null,
   "metadata": {},
   "outputs": [],
   "source": [
    "classified_dataframe['Degree Award Date'].isnull().sum()"
   ]
  },
  {
   "cell_type": "code",
   "execution_count": null,
   "metadata": {},
   "outputs": [],
   "source": [
    "classified_dataframe.corr()"
   ]
  },
  {
   "cell_type": "code",
   "execution_count": null,
   "metadata": {},
   "outputs": [],
   "source": [
    "le.inverse_transform(classified_dataframe['Classification'])"
   ]
  },
  {
   "cell_type": "code",
   "execution_count": null,
   "metadata": {},
   "outputs": [],
   "source": [
    "critical_semester = classified_dataframe.loc[classified_dataframe['Term GPA']<1]"
   ]
  },
  {
   "cell_type": "code",
   "execution_count": null,
   "metadata": {},
   "outputs": [],
   "source": [
    "crit = critical_semester['SubjectID'].unique()"
   ]
  },
  {
   "cell_type": "code",
   "execution_count": null,
   "metadata": {},
   "outputs": [],
   "source": [
    "count = 0\n",
    "for i in crit:\n",
    "    if(i in graduated['SubjectID'].unique()):\n",
    "        count = count+1\n",
    "print(count)"
   ]
  },
  {
   "cell_type": "code",
   "execution_count": null,
   "metadata": {},
   "outputs": [],
   "source": [
    "count = 0\n",
    "for i in crit:\n",
    "    if(i in non_graduate['SubjectID'].unique()):\n",
    "        count = count+1\n",
    "print(count)"
   ]
  },
  {
   "cell_type": "code",
   "execution_count": null,
   "metadata": {},
   "outputs": [],
   "source": [
    "len(crit)"
   ]
  },
  {
   "cell_type": "code",
   "execution_count": null,
   "metadata": {},
   "outputs": [],
   "source": [
    "5642/7763"
   ]
  },
  {
   "cell_type": "markdown",
   "metadata": {},
   "source": [
    "saving dataframe for distribution for the team"
   ]
  },
  {
   "cell_type": "code",
   "execution_count": null,
   "metadata": {},
   "outputs": [],
   "source": [
    "df_drop_summer = pd.read_csv(\"df_drop_summer.csv\")"
   ]
  },
  {
   "cell_type": "code",
   "execution_count": null,
   "metadata": {},
   "outputs": [],
   "source": [
    "df_drop_summer.groupby(['Classification']).median()"
   ]
  },
  {
   "cell_type": "code",
   "execution_count": null,
   "metadata": {},
   "outputs": [],
   "source": [
    "df_drop_summer.groupby('SubjectID')"
   ]
  },
  {
   "cell_type": "markdown",
   "metadata": {},
   "source": [
    "creating dataframes for each groups (df_drop_summerm)"
   ]
  },
  {
   "cell_type": "code",
   "execution_count": null,
   "metadata": {},
   "outputs": [],
   "source": [
    "major_dics = df_drop_summer['Ps1 Major1 Code'].value_counts().to_dict()\n",
    "example = pd.DataFrame(data=major_dics, index=[0])\n",
    "example.to_excel('majors.xlsx')"
   ]
  },
  {
   "cell_type": "code",
   "execution_count": null,
   "metadata": {},
   "outputs": [],
   "source": [
    "normal_df= df_drop_summer.loc[df_drop_summer['Classification']==4]\n",
    "major_dics_normal = normal_df['Ps1 Major1 Code'].value_counts().to_dict()\n",
    "normal_major = pd.DataFrame(data = major_dics_normal, index = [0])\n",
    "normal_major.to_excel('normal_majors.xlsx')"
   ]
  },
  {
   "cell_type": "code",
   "execution_count": null,
   "metadata": {},
   "outputs": [],
   "source": [
    "ntw_df= df_drop_summer.loc[df_drop_summer['Classification']==3]\n",
    "major_dics_ntw = ntw_df['Ps1 Major1 Code'].value_counts().to_dict()\n",
    "ntw_major = pd.DataFrame(data = major_dics_ntw, index = [0])\n",
    "ntw_major.to_excel('ntw_majors.xlsx')"
   ]
  },
  {
   "cell_type": "code",
   "execution_count": null,
   "metadata": {},
   "outputs": [],
   "source": [
    "ttp_df= df_drop_summer.loc[df_drop_summer['Classification']==2]\n",
    "major_dics_ttp = ttp_df['Ps1 Major1 Code'].value_counts().to_dict()\n",
    "ttp_major = pd.DataFrame(data = major_dics_ttp, index = [0])\n",
    "ttp_major.to_excel('ttp_majors.xlsx')"
   ]
  },
  {
   "cell_type": "code",
   "execution_count": null,
   "metadata": {},
   "outputs": [],
   "source": [
    "ng_df= df_drop_summer.loc[df_drop_summer['Classification']==1]\n",
    "major_dics_ng = ng_df['Ps1 Major1 Code'].value_counts().to_dict()\n",
    "ng_major = pd.DataFrame(data = major_dics_ng, index = [0])\n",
    "ng_major.to_excel('ng_majors.xlsx')"
   ]
  },
  {
   "cell_type": "code",
   "execution_count": null,
   "metadata": {},
   "outputs": [],
   "source": [
    "df_drop_summer['Classification'].value_counts()"
   ]
  },
  {
   "cell_type": "code",
   "execution_count": null,
   "metadata": {},
   "outputs": [],
   "source": [
    "df_drop_summer.corr()"
   ]
  },
  {
   "cell_type": "code",
   "execution_count": null,
   "metadata": {},
   "outputs": [],
   "source": [
    "len(df['SubjectID'].unique())"
   ]
  },
  {
   "cell_type": "markdown",
   "metadata": {},
   "source": [
    "Trying to check the number of students who had less than 1 gpa for two consequtive semesters"
   ]
  },
  {
   "cell_type": "code",
   "execution_count": null,
   "metadata": {},
   "outputs": [],
   "source": [
    "consequtive = []\n",
    "for i in df['SubjectID'].unique():\n",
    "    x = df.loc[df['SubjectID']==i]\n",
    "    for j in range(0, len(x['Term GPA'])-1):\n",
    "        a = x['Term GPA'].iloc[j]\n",
    "        b = x['Term GPA'].iloc[j+1]\n",
    "        c = x['Term Hrs Earned'].iloc[j]\n",
    "        d = x['Term Hrs Earned'].iloc[j+1]\n",
    "        if(a<1 and b<1):\n",
    "            consequtive.append(i)"
   ]
  },
  {
   "cell_type": "code",
   "execution_count": null,
   "metadata": {},
   "outputs": [],
   "source": [
    "for i in consequtive:\n",
    "    x = df.loc[df['SubjectID']==i]\n",
    "    if(len(x)>16):\n",
    "        consequtive.remove(i)"
   ]
  },
  {
   "cell_type": "code",
   "execution_count": null,
   "metadata": {},
   "outputs": [],
   "source": [
    "for i in consequtive:\n",
    "    if(i in normal):\n",
    "        consequtive.remove(i)"
   ]
  },
  {
   "cell_type": "code",
   "execution_count": null,
   "metadata": {},
   "outputs": [],
   "source": [
    "consequtive= set(consequtive)"
   ]
  },
  {
   "cell_type": "code",
   "execution_count": null,
   "metadata": {},
   "outputs": [],
   "source": [
    "len(consequtive)"
   ]
  },
  {
   "cell_type": "markdown",
   "metadata": {},
   "source": [
    "Custom Labeling for preparation of machine learning"
   ]
  },
  {
   "cell_type": "code",
   "execution_count": null,
   "metadata": {},
   "outputs": [],
   "source": [
    "df_drop_summer.loc[df_drop_summer['Degree Confer Date'].isnull(), 'Degree Confer Date']=0\n",
    "df_drop_summer.loc[df_drop_summer['Degree Confer Date'].isnull()==False, 'Degree Confer Date']=1\n",
    "df_drop_summer.loc[df_drop_summer['Degree Award Date'].isnull(), 'Degree Award Date']=0\n",
    "df_drop_summer.loc[df_drop_summer['Degree Award Date'].isnull()==False, 'Degree Award Date']=1"
   ]
  },
  {
   "cell_type": "code",
   "execution_count": null,
   "metadata": {},
   "outputs": [],
   "source": [
    "df_drop_summer.loc[df_drop_summer['Ps1 Major2 Code']=='.', 'Ps1 Major2 Code']=0\n",
    "df_drop_summer.loc[df_drop_summer['Ps1 Major2 Code']!='.', 'Ps1 Major2 Code']=1"
   ]
  },
  {
   "cell_type": "code",
   "execution_count": null,
   "metadata": {},
   "outputs": [],
   "source": [
    "df_drop_summer.loc[df_drop_summer['Ps2 Major2 Code']=='.', 'Ps2 Major2 Code']=0\n",
    "df_drop_summer.loc[df_drop_summer['Ps2 Major2 Code']!='.', 'Ps2 Major2 Code']=1"
   ]
  },
  {
   "cell_type": "code",
   "execution_count": null,
   "metadata": {},
   "outputs": [],
   "source": [
    "df_drop_summer.loc[df_drop_summer['Ps2 Major1 Code']=='.', 'Ps2 Major1 Code']=0\n",
    "df_drop_summer.loc[df_drop_summer['Ps2 Major1 Code']!='.', 'Ps2 Major1 Code']=1"
   ]
  },
  {
   "cell_type": "code",
   "execution_count": null,
   "metadata": {},
   "outputs": [],
   "source": [
    "df_drop_summer.loc[df_drop_summer['Dorm Area']=='.', 'Dorm Area']=0\n",
    "df_drop_summer.loc[df_drop_summer['Dorm Area']!='.', 'Dorm Area']=1"
   ]
  },
  {
   "cell_type": "code",
   "execution_count": null,
   "metadata": {},
   "outputs": [],
   "source": [
    "df_drop_summer.loc[df_drop_summer['Citizen Country Name']=='USA', 'Citizen Country Name']=0\n",
    "df_drop_summer.loc[df_drop_summer['Citizen Country Name']!='USA', 'Citizen Country Name']=1"
   ]
  },
  {
   "cell_type": "code",
   "execution_count": null,
   "metadata": {},
   "outputs": [],
   "source": [
    "df_drop_summer.loc[df_drop_summer['Ps1 Acad Standing Desc']=='ACTIVE', 'Ps1 Acad Standing Desc']=1\n",
    "df_drop_summer.loc[df_drop_summer['Ps1 Acad Standing Desc']!='ACTIVE', 'Ps1 Acad Standing Desc']=0"
   ]
  },
  {
   "cell_type": "code",
   "execution_count": null,
   "metadata": {},
   "outputs": [],
   "source": [
    "df_drop_summer.loc[df_drop_summer['Ps2 Ofcl Stat Flag']=='Y', 'Ps2 Ofcl Stat Flag']=1\n",
    "df_drop_summer.loc[df_drop_summer['Ps2 Ofcl Stat Flag']!='N', 'Ps2 Ofcl Stat Flag']=0"
   ]
  },
  {
   "cell_type": "code",
   "execution_count": null,
   "metadata": {},
   "outputs": [],
   "source": [
    "df_drop_summer= df_drop_summer.drop(['Grade'], axis =1)"
   ]
  },
  {
   "cell_type": "code",
   "execution_count": null,
   "metadata": {},
   "outputs": [],
   "source": [
    "df_drop_summer = df_drop_summer.drop(['Unnamed: 0'], axis =1)"
   ]
  },
  {
   "cell_type": "code",
   "execution_count": null,
   "metadata": {},
   "outputs": [],
   "source": [
    "classified_students_4 = df_drop_summer.loc[df_drop_summer['Classification']==4]\n",
    "classified_students_3 = df_drop_summer.loc[df_drop_summer['Classification']==3]\n",
    "classified_students_2 = df_drop_summer.loc[df_drop_summer['Classification']==2]\n",
    "classified_students_1 = df_drop_summer.loc[df_drop_summer['Classification']==1]"
   ]
  },
  {
   "cell_type": "code",
   "execution_count": null,
   "metadata": {},
   "outputs": [],
   "source": [
    "df_drop_summer['Classification'].value_counts()"
   ]
  },
  {
   "cell_type": "code",
   "execution_count": null,
   "metadata": {},
   "outputs": [],
   "source": [
    "print(len(classified_students_4['SubjectID'].unique()))\n",
    "print(len(classified_students_3['SubjectID'].unique()))\n",
    "print(len(classified_students_2['SubjectID'].unique()))\n",
    "print(len(classified_students_1['SubjectID'].unique()))\n",
    "\n",
    "print(len(classified_students_4['SubjectID']))\n",
    "print(len(classified_students_3['SubjectID']))\n",
    "print(len(classified_students_2['SubjectID']))\n",
    "print(len(classified_students_1['SubjectID']))"
   ]
  },
  {
   "cell_type": "markdown",
   "metadata": {},
   "source": [
    "Rough trial for deep learning model"
   ]
  },
  {
   "cell_type": "code",
   "execution_count": null,
   "metadata": {},
   "outputs": [],
   "source": [
    "df_labeled.head()"
   ]
  },
  {
   "cell_type": "code",
   "execution_count": null,
   "metadata": {},
   "outputs": [],
   "source": [
    "df_labeled= df_drop_summer.fillna('NaN')\n",
    "df_labeled['Gender'] = le.fit_transform(df_drop_summer['Gender'])"
   ]
  },
  {
   "cell_type": "code",
   "execution_count": null,
   "metadata": {},
   "outputs": [],
   "source": [
    "df_labeled['Ps1 Timestat Code'] = df_drop_summer['Ps1 Timestat Code']\n",
    "df_labeled['Ps1 Major1 Code'] = df_drop_summer['Ps1 Major1 Code']\n",
    "df_labeled['Repeated Flag'] = df_drop_summer['Repeated Flag']"
   ]
  },
  {
   "cell_type": "code",
   "execution_count": null,
   "metadata": {},
   "outputs": [],
   "source": [
    "df_labeled= df_labeled.drop(['Reported Grade', 'HS City'], axis = 1)"
   ]
  },
  {
   "cell_type": "code",
   "execution_count": null,
   "metadata": {},
   "outputs": [],
   "source": [
    "df_labeled = df_labeled.drop(['SAT Total', 'ACT Composite'], axis =1)"
   ]
  },
  {
   "cell_type": "code",
   "execution_count": null,
   "metadata": {},
   "outputs": [],
   "source": [
    "df_labeled['Classification'] = df_drop_summer['Classification'].copy()"
   ]
  },
  {
   "cell_type": "code",
   "execution_count": null,
   "metadata": {},
   "outputs": [],
   "source": [
    "df_labeled.loc[df_labeled['Classification']==2, 'Classification']=0\n",
    "df_labeled.loc[df_labeled['Classification']==1, 'Classification']=0"
   ]
  },
  {
   "cell_type": "code",
   "execution_count": null,
   "metadata": {},
   "outputs": [],
   "source": [
    "df_labeled.loc[df_labeled['Classification']==4, 'Classification']=1\n",
    "df_labeled.loc[df_labeled['Classification']==3, 'Classification']=1"
   ]
  },
  {
   "cell_type": "code",
   "execution_count": null,
   "metadata": {},
   "outputs": [],
   "source": [
    "df_labeled.columns"
   ]
  },
  {
   "cell_type": "code",
   "execution_count": null,
   "metadata": {},
   "outputs": [],
   "source": [
    "categoricals = df_labeled[['Ps1 Timestat Code', 'Ps1 Major1 Code','Repeated Flag']]"
   ]
  },
  {
   "cell_type": "code",
   "execution_count": null,
   "metadata": {},
   "outputs": [],
   "source": [
    "df_labeled = df_labeled.drop(['Year Term ID_y', 'Ps1 Acad Standing Desc'], axis = 1)"
   ]
  },
  {
   "cell_type": "code",
   "execution_count": null,
   "metadata": {},
   "outputs": [],
   "source": [
    "object_columns = df_labeled.iloc[:, 7:22]"
   ]
  },
  {
   "cell_type": "code",
   "execution_count": null,
   "metadata": {},
   "outputs": [],
   "source": [
    "object_columns['Repeated Flag'].value_counts()"
   ]
  },
  {
   "cell_type": "code",
   "execution_count": null,
   "metadata": {},
   "outputs": [],
   "source": [
    "df_labeled= df_labeled.drop(['Ps1 Timestat Code', 'Ps1 Major1 Code','Repeated Flag'], axis =1)"
   ]
  },
  {
   "cell_type": "code",
   "execution_count": null,
   "metadata": {},
   "outputs": [],
   "source": [
    "X = df_labeled.iloc[:, 0:17]\n",
    "y = df_labeled.iloc[:, 17]"
   ]
  },
  {
   "cell_type": "code",
   "execution_count": null,
   "metadata": {},
   "outputs": [],
   "source": [
    "X['Ps2 Ofcl Stat Flag'].value_counts()"
   ]
  },
  {
   "cell_type": "code",
   "execution_count": null,
   "metadata": {},
   "outputs": [],
   "source": [
    "X.loc[X['Ps2 Ofcl Stat Flag']=='N', 'Ps2 Ofcl Stat Flag']=1"
   ]
  },
  {
   "cell_type": "code",
   "execution_count": null,
   "metadata": {},
   "outputs": [],
   "source": [
    "y.value_counts()"
   ]
  },
  {
   "cell_type": "code",
   "execution_count": null,
   "metadata": {},
   "outputs": [],
   "source": [
    "from sklearn import preprocessing\n",
    "X = X.values #returns a numpy array\n",
    "min_max_scaler = preprocessing.MinMaxScaler()\n",
    "X_scaled = min_max_scaler.fit_transform(X)\n",
    "X = pd.DataFrame(X_scaled)"
   ]
  },
  {
   "cell_type": "code",
   "execution_count": null,
   "metadata": {},
   "outputs": [],
   "source": [
    "X = pd.concat([X,onehot_encoded], axis =1)"
   ]
  },
  {
   "cell_type": "code",
   "execution_count": null,
   "metadata": {},
   "outputs": [],
   "source": [
    "y.value_counts()"
   ]
  },
  {
   "cell_type": "code",
   "execution_count": null,
   "metadata": {},
   "outputs": [],
   "source": [
    "df_labeled_oh['Classification']= ''"
   ]
  },
  {
   "cell_type": "code",
   "execution_count": null,
   "metadata": {},
   "outputs": [],
   "source": [
    "df_labeled_oh['Classification'] = y"
   ]
  },
  {
   "cell_type": "code",
   "execution_count": null,
   "metadata": {},
   "outputs": [],
   "source": [
    "onehot_encoded.head()"
   ]
  },
  {
   "cell_type": "code",
   "execution_count": null,
   "metadata": {},
   "outputs": [],
   "source": [
    "y_labeled = le.fit_transform(y)"
   ]
  },
  {
   "cell_type": "code",
   "execution_count": null,
   "metadata": {},
   "outputs": [],
   "source": [
    "y_labeled"
   ]
  },
  {
   "cell_type": "code",
   "execution_count": null,
   "metadata": {},
   "outputs": [],
   "source": [
    "from sklearn.preprocessing import OneHotEncoder\n",
    "onehot_encoder = OneHotEncoder(sparse=False)\n",
    "onehot_encoded = onehot_encoder.fit_transform(categoricals)\n",
    "onehot_encoded = pd.DataFrame(onehot_encoded)"
   ]
  },
  {
   "cell_type": "code",
   "execution_count": null,
   "metadata": {},
   "outputs": [],
   "source": [
    "from sklearn.model_selection import train_test_split #train test split\n",
    "X_train, X_test, y_train, y_test = train_test_split(X, y, test_size = 0.2, random_state = 0)"
   ]
  },
  {
   "cell_type": "code",
   "execution_count": null,
   "metadata": {},
   "outputs": [],
   "source": [
    "import keras\n",
    "from keras.models import Sequential\n",
    "from keras.layers import Dense\n",
    "import tensorflow as tf #importing libraries "
   ]
  },
  {
   "cell_type": "markdown",
   "metadata": {},
   "source": [
    "found out the dataframe was too large to fit."
   ]
  },
  {
   "cell_type": "markdown",
   "metadata": {},
   "source": [
    "Try to find out trends"
   ]
  },
  {
   "cell_type": "code",
   "execution_count": 125,
   "metadata": {},
   "outputs": [],
   "source": [
    "Term_gpa= []"
   ]
  },
  {
   "cell_type": "code",
   "execution_count": 126,
   "metadata": {},
   "outputs": [],
   "source": [
    "for i in df['SubjectID'].unique():\n",
    "    temp = {}\n",
    "    x= df.loc[df['SubjectID']==i]\n",
    "    temp.update({i:x['Term GPA'].values})\n",
    "    Term_gpa.append(temp)"
   ]
  },
  {
   "cell_type": "code",
   "execution_count": 127,
   "metadata": {},
   "outputs": [
    {
     "data": {
      "text/plain": [
       "{172877093: array([1.33, 0.  , 3.  , 4.  ])}"
      ]
     },
     "execution_count": 127,
     "metadata": {},
     "output_type": "execute_result"
    }
   ],
   "source": [
    "Term_gpa[3] #minimum location, maximum location"
   ]
  },
  {
   "cell_type": "code",
   "execution_count": 142,
   "metadata": {},
   "outputs": [],
   "source": [
    "trends= []\n",
    "for i in Term_gpa:\n",
    "    for ID, history in i.items():\n",
    "        temp = []\n",
    "        Max= np.argmax(history)\n",
    "        Min= np.argmin(history)\n",
    "        temp.append(Max)\n",
    "        temp.append(Min)\n",
    "        temp.append(len(history))\n",
    "    trends.append(temp)"
   ]
  },
  {
   "cell_type": "markdown",
   "metadata": {},
   "source": [
    "trend = list of the best and worst semesters with length of semesters spent in school"
   ]
  },
  {
   "cell_type": "markdown",
   "metadata": {},
   "source": [
    "Trying to define what's decrease in gpa or what's increase for finding out the trends. Did not \n",
    "use this eventually."
   ]
  },
  {
   "cell_type": "code",
   "execution_count": 39,
   "metadata": {},
   "outputs": [],
   "source": [
    "all_gpa = []\n",
    "trend_changes = []\n",
    "for i in trends: ##if more than 1/2 std drop, it's considered drop. if not, it's considered stayed the same.\n",
    "    temp = []\n",
    "    for j in range(0, len(i)-1):\n",
    "        if(i[j]-i[j+1]<halfstd):\n",
    "            temp.append('drop')\n",
    "        if(i[j]-i[j+1]>halfstd):\n",
    "            temp.append('rise')\n",
    "        else:\n",
    "            temp.append('stayed')\n",
    "    trend_changes.append(temp)"
   ]
  },
  {
   "cell_type": "code",
   "execution_count": 46,
   "metadata": {},
   "outputs": [],
   "source": [
    "trends = []\n",
    "for i in dataframe['SubjectID'].unique():\n",
    "    trend = []\n",
    "    x = dataframe.loc[dataframe['SubjectID']==i]\n",
    "    for j in range(0, len(x['Term GPA'])-1):\n",
    "        if (x['Year Term ID_x'].iloc[j]!=x['Year Term ID_x'].iloc[j+1]):\n",
    "            trend.append(x['Term GPA'].iloc[j])\n",
    "    trends.append(trend)"
   ]
  },
  {
   "cell_type": "code",
   "execution_count": 47,
   "metadata": {},
   "outputs": [],
   "source": []
  },
  {
   "cell_type": "code",
   "execution_count": null,
   "metadata": {},
   "outputs": [],
   "source": []
  },
  {
   "cell_type": "code",
   "execution_count": null,
   "metadata": {},
   "outputs": [],
   "source": []
  },
  {
   "cell_type": "code",
   "execution_count": null,
   "metadata": {},
   "outputs": [],
   "source": []
  },
  {
   "cell_type": "code",
   "execution_count": null,
   "metadata": {},
   "outputs": [],
   "source": []
  }
 ],
 "metadata": {
  "kernelspec": {
   "display_name": "Python 3",
   "language": "python",
   "name": "python3"
  },
  "language_info": {
   "codemirror_mode": {
    "name": "ipython",
    "version": 3
   },
   "file_extension": ".py",
   "mimetype": "text/x-python",
   "name": "python",
   "nbconvert_exporter": "python",
   "pygments_lexer": "ipython3",
   "version": "3.7.4"
  }
 },
 "nbformat": 4,
 "nbformat_minor": 2
}
