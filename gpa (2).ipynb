{
 "cells": [
  {
   "cell_type": "code",
   "execution_count": 1,
   "metadata": {},
   "outputs": [],
   "source": [
    "import pandas as pd"
   ]
  },
  {
   "cell_type": "code",
   "execution_count": 2,
   "metadata": {},
   "outputs": [],
   "source": [
    "df = pd.read_csv(\"gpa_ds.csv\")"
   ]
  },
  {
   "cell_type": "code",
   "execution_count": 3,
   "metadata": {},
   "outputs": [
    {
     "name": "stderr",
     "output_type": "stream",
     "text": [
      "/Users/jaeheukjung/opt/anaconda3/lib/python3.7/site-packages/IPython/core/interactiveshell.py:3058: DtypeWarning: Columns (2,3,4,5,6,7,8,9,12,13,14,17,18,19,21,22,23,25,26,27,28,29,30) have mixed types. Specify dtype option on import or set low_memory=False.\n",
      "  interactivity=interactivity, compiler=compiler, result=result)\n",
      "/Users/jaeheukjung/opt/anaconda3/lib/python3.7/site-packages/IPython/core/interactiveshell.py:3058: DtypeWarning: Columns (37,43,53) have mixed types. Specify dtype option on import or set low_memory=False.\n",
      "  interactivity=interactivity, compiler=compiler, result=result)\n"
     ]
    }
   ],
   "source": [
    "courses = pd.read_csv('courses.csv')\n",
    "demo = pd.read_csv('demographics.csv')"
   ]
  },
  {
   "cell_type": "code",
   "execution_count": 4,
   "metadata": {},
   "outputs": [],
   "source": [
    "courses = courses.loc[courses[\"SubjectID\"]>0]\n",
    "demo = demo.loc[demo['SubjectID']>0]\n",
    "df = df.loc[df['SubjectID']>0]"
   ]
  },
  {
   "cell_type": "code",
   "execution_count": 24,
   "metadata": {},
   "outputs": [
    {
     "data": {
      "text/plain": [
       "Index(['SubjectID', 'Year Term ID', 'Ps1 Timestat Code', 'Ps1 Ofcl Stat Flag',\n",
       "       'Ps1 Major1 Code', 'Ps1 Major2 Code', 'Ps2 Ofcl Stat Flag',\n",
       "       'Ps2 Major1 Code', 'Ps2 Major2 Code', 'Ps1 Class Code', 'CRN',\n",
       "       'College Code', 'Subject Code', 'Course No', 'Course Discipline Code',\n",
       "       'Parent CRN', 'Parent College Code', 'Parent Subject Code',\n",
       "       'Parent Course No', 'Parent Discipline Code', 'Credit Hrs',\n",
       "       'Repeated Flag', 'Reg Status Desc', 'Grade', 'Grade Value',\n",
       "       'Reported Grade', 'Ps1 Enroll Status Desc', 'Ps1 Withdraw Code',\n",
       "       'Ps1 Withdraw Reason', 'Dorm Area', 'Ps1 Acad Standing Desc'],\n",
       "      dtype='object')"
      ]
     },
     "execution_count": 24,
     "metadata": {},
     "output_type": "execute_result"
    }
   ],
   "source": [
    "courses.columns"
   ]
  },
  {
   "cell_type": "code",
   "execution_count": 25,
   "metadata": {},
   "outputs": [],
   "source": [
    "courses = courses.drop( ['Ps1 Class Code', 'CRN',\n",
    "       'College Code', 'Subject Code', 'Course No', 'Course Discipline Code',\n",
    "       'Parent CRN', 'Parent College Code', 'Parent Subject Code',\n",
    "       'Parent Course No', 'Parent Discipline Code'], axis = 1)"
   ]
  },
  {
   "cell_type": "code",
   "execution_count": 26,
   "metadata": {},
   "outputs": [],
   "source": [
    "courses= courses.drop(['Reg Status Desc', 'Grade Value','Ps1 Enroll Status Desc', 'Ps1 Withdraw Code',\n",
    "       'Ps1 Withdraw Reason'], axis = 1)"
   ]
  },
  {
   "cell_type": "code",
   "execution_count": 27,
   "metadata": {},
   "outputs": [],
   "source": [
    "demo = demo.drop(['Visa Code', 'Visa Desc', 'Citizen Type',\n",
    "       'Citizen Country Code',\n",
    "       '2010 IPEDS Ethnicity Description', '2010 Ethnicity Short Desc',\n",
    "       'Veteran Status Desc', 'HS State Prov',\n",
    "       'HS Postal Code', 'HS Country', 'HS Rank', 'HS Size',\n",
    "       'HS Graduation Date', 'SAT Verbal', 'SAT Math', 'SAT Writing','ACT English', 'ACT Math', 'ACT Soc Science',\n",
    "       'ACT Nat Science','B - Type Desc', 'B - Class Year',\n",
    "       'B - Time Status Code', 'B - Degree Code', 'B - Major1 Code',\n",
    "       'B - Major2 Code', 'B - Response Code', 'B - Response Desc',\n",
    "       'B - Response Date', 'B - Action Code', 'B - Action Desc',\n",
    "       'B - Action Date', 'B - Transfer College Code',\n",
    "       'B - Transfer College Name', 'B - Transfer GPA',\n",
    "       'B - Graduated College Name', 'Und Cohort First YT', # B = admissions\n",
    "       'Transfer Year Term', 'Cohort Major1 Disc Code',\n",
    "       'Cohort Major1 Dept Code', 'Cohort Major1 Code',\n",
    "       'Cohort Major2 Disc Code', 'Cohort Major2 Dept Code', # cohort = census \n",
    "       'Cohort Major2 Code', 'Degree Code', 'Degree Class Year',\n",
    "       'Degree Major1 Discipline Code', 'Degree Major1 Dept Code',\n",
    "       'Degree Major1 Code', 'Degree Major2 Discipline Code',\n",
    "       'Degree Major2 Dept Code', 'Degree Major2 Code', 'Degree Minor1 Code',\n",
    "       'Degree Minor2 Code', 'Degree Minor3 Code', 'Clust1 Code',\n",
    "       'Clust1 Dept Code', 'Clust2 Code', 'Clust2 Dept Code',\n",
    "       'Degree Honors Code'] , axis = 1)"
   ]
  },
  {
   "cell_type": "code",
   "execution_count": 28,
   "metadata": {},
   "outputs": [],
   "source": [
    "dataframe = pd.merge(df, courses, on='SubjectID')"
   ]
  },
  {
   "cell_type": "code",
   "execution_count": 29,
   "metadata": {},
   "outputs": [],
   "source": [
    "dataframe = pd.merge(dataframe, demo, on='SubjectID')"
   ]
  },
  {
   "cell_type": "code",
   "execution_count": null,
   "metadata": {},
   "outputs": [],
   "source": [
    "dataframe.columns"
   ]
  },
  {
   "cell_type": "code",
   "execution_count": null,
   "metadata": {},
   "outputs": [],
   "source": [
    "freshmen_gpa = {}"
   ]
  },
  {
   "cell_type": "code",
   "execution_count": null,
   "metadata": {},
   "outputs": [],
   "source": [
    "dataframe.columns"
   ]
  },
  {
   "cell_type": "code",
   "execution_count": null,
   "metadata": {},
   "outputs": [],
   "source": [
    "dataframe_heatmap = dataframe.drop( ['Ps2 Ofcl Stat Flag',\n",
    "       'Ps2 Major1 Code', 'Ps2 Major2 Code', 'Credit Hrs','Year Term ID_x','Term Hrs Earned','Cumul Hrs Earned',\n",
    "       'Cumul Hrs GPA', 'Cumul Points Earned', 'Term Transfer Hrs',\n",
    "       'Year Term ID_y', 'Ps1 Timestat Code'], axis = 1)"
   ]
  },
  {
   "cell_type": "code",
   "execution_count": null,
   "metadata": {},
   "outputs": [],
   "source": [
    "dataframe_heatmap['Ps1 Ofcl Stat Flag'].value_counts()"
   ]
  },
  {
   "cell_type": "code",
   "execution_count": null,
   "metadata": {},
   "outputs": [],
   "source": [
    "for i in dataframe['SubjectID'].unique():\n",
    "    x = dataframe.loc[dataframe['SubjectID']==i]\n",
    "    freshmen_gpa.update({i: x['Cumul GPA'].iloc[0]})"
   ]
  },
  {
   "cell_type": "code",
   "execution_count": null,
   "metadata": {},
   "outputs": [],
   "source": [
    "trends= []\n",
    "for i in dataframe['SubjectID'].unique():\n",
    "    trend = []\n",
    "    x= dataframe.loc[dataframe['SubjectID']==i]\n",
    "    y = x['Term GPA'].unique()\n",
    "    trend.append(y)\n",
    "    trend.append()"
   ]
  },
  {
   "cell_type": "code",
   "execution_count": null,
   "metadata": {},
   "outputs": [],
   "source": [
    "low_freshmen = []\n",
    "One_freshmen = []\n",
    "for i,j in freshmen_gpa.items():\n",
    "    if(j<2.0):\n",
    "        low_freshmen.append(i)\n",
    "    if(j<1.0):\n",
    "        One_freshmen.append(i)"
   ]
  },
  {
   "cell_type": "code",
   "execution_count": null,
   "metadata": {},
   "outputs": [],
   "source": [
    "len(low_freshmen)"
   ]
  },
  {
   "cell_type": "code",
   "execution_count": null,
   "metadata": {},
   "outputs": [],
   "source": [
    "len(One_freshmen)"
   ]
  },
  {
   "cell_type": "code",
   "execution_count": null,
   "metadata": {},
   "outputs": [],
   "source": [
    "plt.hist(freshmen_gpa.values())"
   ]
  },
  {
   "cell_type": "code",
   "execution_count": null,
   "metadata": {},
   "outputs": [],
   "source": [
    "graduated = dataframe.loc[dataframe['Degree Confer Date'].isnull()==False]\n",
    "non_graduate = dataframe.loc[dataframe['Degree Confer Date'].isnull()==True]"
   ]
  },
  {
   "cell_type": "code",
   "execution_count": null,
   "metadata": {},
   "outputs": [],
   "source": [
    "non_graduate"
   ]
  },
  {
   "cell_type": "code",
   "execution_count": null,
   "metadata": {},
   "outputs": [],
   "source": [
    "plt.figure( dpi= 200)\n",
    "plt.hist(graduated['Cumul GPA'])"
   ]
  },
  {
   "cell_type": "code",
   "execution_count": null,
   "metadata": {},
   "outputs": [],
   "source": [
    "plt.figure(dpi =200)\n",
    "plt.hist(non_graduate['Cumul GPA'])"
   ]
  },
  {
   "cell_type": "code",
   "execution_count": null,
   "metadata": {},
   "outputs": [],
   "source": [
    "count = 0 \n",
    "non_grad_dict = {}\n",
    "def gpa_dict(df, col1, col2, dictionary): #gets the final GPAs of the students. Insert dataframe\n",
    "    for i in df[col].unique():\n",
    "        count = count+1\n",
    "        perc = count/len(df[col].unique())\n",
    "        if(perc>.10==0):\n",
    "            print(perc)\n",
    "            count = 0\n",
    "        x = df.loc[df[col]==i]\n",
    "        dictionary.update({i: x[col2].iloc[len(x)-1]})"
   ]
  },
  {
   "cell_type": "code",
   "execution_count": null,
   "metadata": {},
   "outputs": [],
   "source": [
    "ex = non_graduate.loc[non_graduate['SubjectID']==175397669]\n",
    "print(ex['Cumul GPA'].iloc[len(ex)-1])"
   ]
  },
  {
   "cell_type": "code",
   "execution_count": null,
   "metadata": {},
   "outputs": [],
   "source": [
    "count = 0\n",
    "count_1 = 0\n",
    "for x in non_graduate['SubjectID'].unique():\n",
    "    if(x in low_freshmen):\n",
    "        count = count+1\n",
    "    if(x in One_freshmen):\n",
    "        count_1= count_1+1\n",
    "print(count)\n",
    "print(count_1)"
   ]
  },
  {
   "cell_type": "code",
   "execution_count": null,
   "metadata": {},
   "outputs": [],
   "source": [
    "279/293"
   ]
  },
  {
   "cell_type": "code",
   "execution_count": null,
   "metadata": {},
   "outputs": [],
   "source": [
    "587/848 # 70 % of the students who were below 2.0 in freshmen year/ first semester did not graduate"
   ]
  },
  {
   "cell_type": "code",
   "execution_count": null,
   "metadata": {},
   "outputs": [],
   "source": [
    "for x in non_graduate['SubjectID']"
   ]
  },
  {
   "cell_type": "code",
   "execution_count": null,
   "metadata": {},
   "outputs": [],
   "source": [
    "long =(non_graduate['SubjectID'].unique())"
   ]
  },
  {
   "cell_type": "code",
   "execution_count": null,
   "metadata": {},
   "outputs": [],
   "source": [
    "long = np.array(long)"
   ]
  },
  {
   "cell_type": "code",
   "execution_count": null,
   "metadata": {},
   "outputs": [],
   "source": [
    "import numpy as np\n",
    "long_student= np.unique(longer)"
   ]
  },
  {
   "cell_type": "code",
   "execution_count": null,
   "metadata": {},
   "outputs": [],
   "source": [
    "longer = np.array(longer)"
   ]
  },
  {
   "cell_type": "code",
   "execution_count": null,
   "metadata": {},
   "outputs": [],
   "source": [
    "longer = np.append(longer, long )"
   ]
  },
  {
   "cell_type": "code",
   "execution_count": null,
   "metadata": {},
   "outputs": [],
   "source": [
    "long_student = np.unique(longer)"
   ]
  },
  {
   "cell_type": "code",
   "execution_count": null,
   "metadata": {},
   "outputs": [],
   "source": [
    "len(long_student)"
   ]
  },
  {
   "cell_type": "code",
   "execution_count": null,
   "metadata": {},
   "outputs": [],
   "source": [
    "count = 0\n",
    "for x in long_student:\n",
    "    if(x in low_freshmen):\n",
    "        count = count+1\n",
    "print(count)"
   ]
  },
  {
   "cell_type": "code",
   "execution_count": null,
   "metadata": {},
   "outputs": [],
   "source": [
    "610/848"
   ]
  },
  {
   "cell_type": "code",
   "execution_count": null,
   "metadata": {},
   "outputs": [],
   "source": [
    "non_graduate['First Generation Flag'].value_counts(normalize = True)"
   ]
  },
  {
   "cell_type": "code",
   "execution_count": null,
   "metadata": {},
   "outputs": [],
   "source": [
    "graduated['First Generation Flag'].value_counts(normalize = True)"
   ]
  },
  {
   "cell_type": "code",
   "execution_count": null,
   "metadata": {},
   "outputs": [],
   "source": [
    "non_graduate = non_graduate.drop(['Year Term ID_y', 'Cumul Points Earned', 'Term Transfer Hrs'], axis = 1)"
   ]
  },
  {
   "cell_type": "code",
   "execution_count": null,
   "metadata": {},
   "outputs": [],
   "source": [
    "for i in graduated.select_dtypes(include=[object]):\n",
    "    print(i)\n",
    "    print('graduated')\n",
    "    print(graduated[i].value_counts(normalize = True))\n",
    "    print('non graduate')\n",
    "    print(non_graduate[i].value_counts(normalize = True))"
   ]
  },
  {
   "cell_type": "code",
   "execution_count": null,
   "metadata": {},
   "outputs": [],
   "source": []
  },
  {
   "cell_type": "code",
   "execution_count": null,
   "metadata": {},
   "outputs": [],
   "source": [
    "plt.scatter(non_graduate[''])"
   ]
  },
  {
   "cell_type": "code",
   "execution_count": null,
   "metadata": {},
   "outputs": [],
   "source": [
    "len(dataframe['SubjectID'].unique())"
   ]
  },
  {
   "cell_type": "code",
   "execution_count": null,
   "metadata": {},
   "outputs": [],
   "source": [
    "len(courses['SubjectID'].unique())"
   ]
  },
  {
   "cell_type": "code",
   "execution_count": null,
   "metadata": {},
   "outputs": [],
   "source": [
    "len(demo ['SubjectID'].unique())"
   ]
  },
  {
   "cell_type": "code",
   "execution_count": null,
   "metadata": {},
   "outputs": [],
   "source": [
    "dataframe"
   ]
  },
  {
   "cell_type": "code",
   "execution_count": null,
   "metadata": {},
   "outputs": [],
   "source": [
    "df= df.dropna()"
   ]
  },
  {
   "cell_type": "code",
   "execution_count": null,
   "metadata": {},
   "outputs": [],
   "source": [
    "df"
   ]
  },
  {
   "cell_type": "code",
   "execution_count": null,
   "metadata": {},
   "outputs": [],
   "source": [
    "test_value_list = test['SubjectID'].value_counts().to_dict()"
   ]
  },
  {
   "cell_type": "code",
   "execution_count": null,
   "metadata": {},
   "outputs": [],
   "source": [
    "value_list = {}"
   ]
  },
  {
   "cell_type": "code",
   "execution_count": null,
   "metadata": {},
   "outputs": [],
   "source": [
    "value_list = df['SubjectID'].value_counts().to_dict()"
   ]
  },
  {
   "cell_type": "code",
   "execution_count": null,
   "metadata": {},
   "outputs": [],
   "source": [
    "value_list"
   ]
  },
  {
   "cell_type": "code",
   "execution_count": null,
   "metadata": {},
   "outputs": [],
   "source": [
    "import matplotlib.pyplot as plt"
   ]
  },
  {
   "cell_type": "code",
   "execution_count": null,
   "metadata": {},
   "outputs": [],
   "source": [
    "plt.hist(value_list.values())"
   ]
  },
  {
   "cell_type": "code",
   "execution_count": null,
   "metadata": {},
   "outputs": [],
   "source": [
    "longer= []"
   ]
  },
  {
   "cell_type": "code",
   "execution_count": null,
   "metadata": {},
   "outputs": [],
   "source": [
    "for i,j in value_list.items():\n",
    "    if(j>12):\n",
    "        longer.append(i)"
   ]
  },
  {
   "cell_type": "code",
   "execution_count": null,
   "metadata": {},
   "outputs": [],
   "source": [
    "for i,j in test_value_list.items():\n",
    "    if(j>8):\n",
    "        test_longer.append(i)"
   ]
  },
  {
   "cell_type": "code",
   "execution_count": null,
   "metadata": {},
   "outputs": [],
   "source": [
    "longer"
   ]
  },
  {
   "cell_type": "code",
   "execution_count": null,
   "metadata": {},
   "outputs": [],
   "source": [
    "df['classification'] = False"
   ]
  },
  {
   "cell_type": "code",
   "execution_count": null,
   "metadata": {},
   "outputs": [],
   "source": []
  },
  {
   "cell_type": "code",
   "execution_count": null,
   "metadata": {},
   "outputs": [],
   "source": [
    "df['classification'].value_counts()"
   ]
  },
  {
   "cell_type": "code",
   "execution_count": null,
   "metadata": {},
   "outputs": [],
   "source": [
    "df.loc[df[\"SubjectID\"].isin(longer), 'classification'] = True"
   ]
  },
  {
   "cell_type": "code",
   "execution_count": null,
   "metadata": {},
   "outputs": [],
   "source": [
    "df['classification'].value_counts()"
   ]
  },
  {
   "cell_type": "code",
   "execution_count": null,
   "metadata": {},
   "outputs": [],
   "source": [
    "longer_students = df.loc[df['classification']==True]"
   ]
  },
  {
   "cell_type": "code",
   "execution_count": null,
   "metadata": {},
   "outputs": [],
   "source": [
    "normal_students= df.loc[df['classification']==False]"
   ]
  },
  {
   "cell_type": "code",
   "execution_count": null,
   "metadata": {},
   "outputs": [],
   "source": [
    "longer_students.columns"
   ]
  },
  {
   "cell_type": "code",
   "execution_count": null,
   "metadata": {},
   "outputs": [],
   "source": [
    "ls_gpa = []\n",
    "ns_gpa = []"
   ]
  },
  {
   "cell_type": "code",
   "execution_count": null,
   "metadata": {},
   "outputs": [],
   "source": [
    "len(longer_students)"
   ]
  },
  {
   "cell_type": "code",
   "execution_count": null,
   "metadata": {},
   "outputs": [],
   "source": [
    "len(graduated['SubjectID'].unique())"
   ]
  },
  {
   "cell_type": "code",
   "execution_count": null,
   "metadata": {},
   "outputs": [],
   "source": [
    "len(non_graduate['SubjectID'].unique())"
   ]
  },
  {
   "cell_type": "code",
   "execution_count": null,
   "metadata": {},
   "outputs": [],
   "source": [
    "for i in range(0,len(longer_students['SubjectID'])-1):\n",
    "    if (longer_students['SubjectID'].iloc[i]!=longer_students['SubjectID'].iloc[i+1]):\n",
    "        ls_gpa.append(longer_students['Cumul GPA'].iloc[i])"
   ]
  },
  {
   "cell_type": "code",
   "execution_count": null,
   "metadata": {},
   "outputs": [],
   "source": [
    "for i in range(0,len(normal_students['SubjectID'])-1):\n",
    "    if (normal_students['SubjectID'].iloc[i]!=normal_students['SubjectID'].iloc[i+1]):\n",
    "        ns_gpa.append(normal_students['Cumul GPA'].iloc[i])"
   ]
  },
  {
   "cell_type": "code",
   "execution_count": null,
   "metadata": {},
   "outputs": [],
   "source": [
    "np.mean(ls_gpa)"
   ]
  },
  {
   "cell_type": "code",
   "execution_count": null,
   "metadata": {},
   "outputs": [],
   "source": [
    "np.mean(ns_gpa)"
   ]
  },
  {
   "cell_type": "code",
   "execution_count": null,
   "metadata": {},
   "outputs": [],
   "source": [
    "np.median(ns_gpa)"
   ]
  },
  {
   "cell_type": "code",
   "execution_count": null,
   "metadata": {},
   "outputs": [],
   "source": [
    "np.median(ls_gpa)"
   ]
  },
  {
   "cell_type": "code",
   "execution_count": null,
   "metadata": {},
   "outputs": [],
   "source": [
    "classification"
   ]
  },
  {
   "cell_type": "code",
   "execution_count": null,
   "metadata": {},
   "outputs": [],
   "source": [
    "import numpy as np"
   ]
  },
  {
   "cell_type": "code",
   "execution_count": null,
   "metadata": {},
   "outputs": [],
   "source": [
    "halfstd =np.std(all_gpa)/2"
   ]
  },
  {
   "cell_type": "code",
   "execution_count": null,
   "metadata": {},
   "outputs": [],
   "source": [
    "halfstd"
   ]
  },
  {
   "cell_type": "code",
   "execution_count": null,
   "metadata": {},
   "outputs": [],
   "source": [
    "trend_changes = []"
   ]
  },
  {
   "cell_type": "code",
   "execution_count": null,
   "metadata": {},
   "outputs": [],
   "source": [
    "all_gpa = []"
   ]
  },
  {
   "cell_type": "code",
   "execution_count": null,
   "metadata": {},
   "outputs": [],
   "source": [
    "for i in trends: ##if more than 1/2 std drop, it's considered drop. if not, it's considered stayed the same.\n",
    "    temp = []\n",
    "    for j in range(0, len(i)-1):\n",
    "        if(i[j]-i[j+1]<halfstd):\n",
    "            temp.append('drop')\n",
    "        if(i[j]-i[j+1]>halfstd):\n",
    "            temp.append('rise')\n",
    "        else:\n",
    "            temp.append('stayed')\n",
    "    trend_changes.append(temp)"
   ]
  },
  {
   "cell_type": "code",
   "execution_count": null,
   "metadata": {},
   "outputs": [],
   "source": [
    "for i in trend_changes:\n",
    "    if()"
   ]
  },
  {
   "cell_type": "code",
   "execution_count": null,
   "metadata": {},
   "outputs": [],
   "source": [
    "trends = []\n",
    "for i in dataframe['SubjectID'].unique():\n",
    "    trend = []\n",
    "    x = dataframe.loc[dataframe['SubjectID']==i]\n",
    "    for j in range(0, len(x['Term GPA'])-1):\n",
    "        if (x['Year Term ID_x'].iloc[j]!=x['Year Term ID_x'].iloc[j+1]):\n",
    "            trend.append(x['Term GPA'].iloc[j])\n",
    "    trends.append(trend)"
   ]
  },
  {
   "cell_type": "code",
   "execution_count": null,
   "metadata": {},
   "outputs": [],
   "source": [
    "classified_dataframe = dataframe.copy()"
   ]
  },
  {
   "cell_type": "code",
   "execution_count": null,
   "metadata": {},
   "outputs": [],
   "source": [
    "classified_dataframe = classified_dataframe.drop(['First Generation Flag', 'Birthdate','Term Hrs Earned',\n",
    "       'Term Hrs GPA', 'Term Points Earned','Ps1 Ofcl Stat Flag', 'Cumul Points Earned'], axis =1)"
   ]
  },
  {
   "cell_type": "code",
   "execution_count": null,
   "metadata": {},
   "outputs": [],
   "source": [
    "classified_dataframe['Classification']= ' '"
   ]
  },
  {
   "cell_type": "code",
   "execution_count": null,
   "metadata": {},
   "outputs": [],
   "source": [
    "graduated = classified_dataframe.loc[classified_dataframe['Degree Award Date'].isnull()==False]\n",
    "non_graduate = classified_dataframe.loc[classified_dataframe['Degree Award Date'].isnull()==True]"
   ]
  },
  {
   "cell_type": "code",
   "execution_count": null,
   "metadata": {},
   "outputs": [],
   "source": [
    "notgrad = non_graduate['SubjectID'].unique()"
   ]
  },
  {
   "cell_type": "code",
   "execution_count": null,
   "metadata": {},
   "outputs": [],
   "source": [
    "df_drop_summer = df_drop_summer.groupby('SubjectID')"
   ]
  },
  {
   "cell_type": "code",
   "execution_count": null,
   "metadata": {},
   "outputs": [],
   "source": [
    "df_drop_summer.head()"
   ]
  },
  {
   "cell_type": "code",
   "execution_count": null,
   "metadata": {},
   "outputs": [],
   "source": [
    "normal_dropped = []\n",
    "nine_plus_dropped= []\n",
    "tw_plus_dropped = []\n",
    "count = 0\n",
    "for i in df_drop_summer['SubjectID'].unique():\n",
    "    count= count+1\n",
    "    if(count/len(df_drop_summer['SubjectID'].unique())>.1):\n",
    "        print('10%')\n",
    "        count=0\n",
    "    x= df_drop_summer.loc[df_drop_summer['SubjectID']==i]\n",
    "    if(len(x['Year Term ID_x'].unique())<=8):\n",
    "        normal_dropped.append(i)\n",
    "    elif(len(x['Year Term ID_x'].unique())>=9 and len(x['Year Term ID_x'].unique())<13):\n",
    "        nine_plus_dropped.append(i)\n",
    "    elif(len(x['Year Term ID_x'].unique())>=13):\n",
    "        tw_plus_dropped.append(i)"
   ]
  },
  {
   "cell_type": "code",
   "execution_count": null,
   "metadata": {},
   "outputs": [],
   "source": [
    "df_drop_summer.loc[df_drop_summer[\"SubjectID\"].isin(normal_dropped), 'Classification'] = 4\n",
    "df_drop_summer.loc[df_drop_summer[\"SubjectID\"].isin(nine_plus_dropped), 'Classification'] = 3\n",
    "df_drop_summer.loc[df_drop_summer[\"SubjectID\"].isin(tw_plus_dropped), 'Classification'] = 2\n",
    "df_drop_summer.loc[df_drop_summer[\"SubjectID\"].isin(notgrad), 'Classification'] = 1"
   ]
  },
  {
   "cell_type": "code",
   "execution_count": null,
   "metadata": {},
   "outputs": [],
   "source": [
    "len(df_drop_summer[\"SubjectID\"].unique())"
   ]
  },
  {
   "cell_type": "code",
   "execution_count": null,
   "metadata": {},
   "outputs": [],
   "source": [
    "print(len(normal_dropped))\n",
    "print(len(nine_plus_dropped))\n",
    "print(len(tw_plus_dropped))\n",
    "print(len(notgrad))"
   ]
  },
  {
   "cell_type": "code",
   "execution_count": null,
   "metadata": {},
   "outputs": [],
   "source": [
    "print(len(graduated['SubjectID'].unique()))\n",
    "print(len(df_drop_summer['SubjectID'].unique()))"
   ]
  },
  {
   "cell_type": "code",
   "execution_count": null,
   "metadata": {},
   "outputs": [],
   "source": [
    "labels = 'Normal', '9-12', '13+', 'Non Graduate'\n",
    "sizes = [15079, 2463, 123, 2724]\n",
    "colors = ['gold', 'yellowgreen', 'lightcoral', 'lightskyblue']\n",
    "explode = (0.3, 0, 0, 0)  # explode 1st slice\n",
    "\n",
    "# Plot\n",
    "plt.figure(dpi = 150)\n",
    "plt.pie(sizes, explode=explode, labels=labels, colors=colors,\n",
    "autopct='%1.1f%%', shadow=True, startangle=140)\n",
    "\n",
    "plt.axis('equal')\n",
    "plt.title('Students breakdown not counting summer')\n",
    "plt.show()"
   ]
  },
  {
   "cell_type": "code",
   "execution_count": null,
   "metadata": {},
   "outputs": [],
   "source": [
    "labels = 'Normal', '9-12', '13+', 'Non Graduate'\n",
    "sizes = [11267, 6058, 340, 2724]\n",
    "colors = ['gold', 'yellowgreen', 'lightcoral', 'lightskyblue']\n",
    "explode = (0.3, 0, 0, 0)  # explode 1st slice\n",
    "\n",
    "# Plot\n",
    "plt.figure(dpi = 150)\n",
    "plt.pie(sizes, explode=explode, labels=labels, colors=colors,\n",
    "autopct='%1.1f%%', shadow=True, startangle=140)\n",
    "\n",
    "plt.axis('equal')\n",
    "plt.title('Students breakdown counting summer')\n",
    "plt.show()"
   ]
  },
  {
   "cell_type": "code",
   "execution_count": null,
   "metadata": {},
   "outputs": [],
   "source": [
    "year_Term = []"
   ]
  },
  {
   "cell_type": "code",
   "execution_count": null,
   "metadata": {},
   "outputs": [],
   "source": [
    "for i in classified_dataframe['Year Term ID_x'].unique():\n",
    "    year_Term.append(str(i))"
   ]
  },
  {
   "cell_type": "code",
   "execution_count": null,
   "metadata": {},
   "outputs": [],
   "source": [
    "summer = []"
   ]
  },
  {
   "cell_type": "code",
   "execution_count": null,
   "metadata": {},
   "outputs": [],
   "source": [
    "for i in year_Term:\n",
    "    if(i[4]=='4'):\n",
    "        summer.append(float(i))"
   ]
  },
  {
   "cell_type": "code",
   "execution_count": null,
   "metadata": {},
   "outputs": [],
   "source": [
    "df_drop_summer = classified_dataframe.loc[~classified_dataframe['Year Term ID_x'].isin(summer)]"
   ]
  },
  {
   "cell_type": "code",
   "execution_count": null,
   "metadata": {},
   "outputs": [],
   "source": [
    "df_drop_summer.groupby(['Classification']).median()"
   ]
  },
  {
   "cell_type": "code",
   "execution_count": null,
   "metadata": {},
   "outputs": [],
   "source": [
    "classified_dataframe.loc[classified_dataframe[\"SubjectID\"].isin(normal), 'Classification'] = 4\n",
    "classified_dataframe.loc[classified_dataframe[\"SubjectID\"].isin(nine_twelve), 'Classification'] = 3\n",
    "classified_dataframe.loc[classified_dataframe[\"SubjectID\"].isin(twelve_plus), 'Classification'] = 2\n",
    "classified_dataframe.loc[classified_dataframe[\"SubjectID\"].isin(notgrad), 'Classification'] = 1"
   ]
  },
  {
   "cell_type": "code",
   "execution_count": null,
   "metadata": {},
   "outputs": [],
   "source": [
    "classified_dataframe['Classification'].value_counts()"
   ]
  },
  {
   "cell_type": "code",
   "execution_count": null,
   "metadata": {},
   "outputs": [],
   "source": [
    "classified_dataframe.to_csv('classified_dataframe')"
   ]
  },
  {
   "cell_type": "code",
   "execution_count": null,
   "metadata": {},
   "outputs": [],
   "source": [
    "Normal = classified_dataframe.loc[classified_dataframe['Classification']=='N']\n",
    "NineTwelve = classified_dataframe.loc[classified_dataframe['Classification']=='NT']\n",
    "TwelvePlus = classified_dataframe.loc[classified_dataframe['Classification']=='TP']\n",
    "NonGrad = classified_dataframe.loc[classified_dataframe['Classification']=='NG']"
   ]
  },
  {
   "cell_type": "code",
   "execution_count": null,
   "metadata": {},
   "outputs": [],
   "source": [
    "classified_dataframe = classified_dataframe.drop(['classification'], axis = 1)"
   ]
  },
  {
   "cell_type": "code",
   "execution_count": null,
   "metadata": {},
   "outputs": [],
   "source": [
    "Normal_lowfresh = Normal.loc[Normal['SubjectID'].isin(low_freshmen)]"
   ]
  },
  {
   "cell_type": "code",
   "execution_count": null,
   "metadata": {},
   "outputs": [],
   "source": [
    "NineTwelve_lowfresh = NineTwelve.loc[NineTwelve['SubjectID'].isin(low_freshmen)]\n",
    "TwelvePlus_lowfresh = TwelvePlus.loc[TwelvePlus['SubjectID'].isin(low_freshmen)]\n",
    "NonGrad_lowfresh = NonGrad.loc[NonGrad['SubjectID'].isin(low_freshmen)]"
   ]
  },
  {
   "cell_type": "code",
   "execution_count": null,
   "metadata": {},
   "outputs": [],
   "source": [
    "Normal_Onefresh = Normal.loc[Normal['SubjectID'].isin(One_freshmen)]\n",
    "NineTwelve_Onefresh = NineTwelve.loc[NineTwelve['SubjectID'].isin(One_freshmen)]\n",
    "TwelvePlus_Onefresh = TwelvePlus.loc[TwelvePlus['SubjectID'].isin(One_freshmen)]\n",
    "NonGrad_Onefresh = NonGrad.loc[NonGrad['SubjectID'].isin(One_freshmen)]"
   ]
  },
  {
   "cell_type": "code",
   "execution_count": null,
   "metadata": {},
   "outputs": [],
   "source": [
    "len(Normal_lowfresh['SubjectID'].unique())"
   ]
  },
  {
   "cell_type": "code",
   "execution_count": null,
   "metadata": {},
   "outputs": [],
   "source": [
    "print(len(NineTwelve_lowfresh['SubjectID'].unique()))\n",
    "print(len(TwelvePlus_lowfresh['SubjectID'].unique()))\n",
    "print(len(NonGrad_lowfresh['SubjectID'].unique()))"
   ]
  },
  {
   "cell_type": "code",
   "execution_count": null,
   "metadata": {},
   "outputs": [],
   "source": [
    "labels = 'Normal', '9-12', '13+', 'Non Graduate'\n",
    "sizes = [7, 5, 5, 276]\n",
    "colors = ['gold', 'yellowgreen', 'lightcoral', 'lightskyblue']\n",
    "explode = (0, 0, 0, 0.1)  # explode 1st slice\n",
    "\n",
    "# Plot\n",
    "plt.figure(dpi = 150)\n",
    "plt.pie(sizes, explode=explode, labels=labels, colors=colors,\n",
    "autopct='%1.1f%%', shadow=True, startangle=140)\n",
    "\n",
    "plt.axis('equal')\n",
    "plt.title('Students with less than 1.0 gpa first semester break down')\n",
    "plt.show()"
   ]
  },
  {
   "cell_type": "code",
   "execution_count": null,
   "metadata": {},
   "outputs": [],
   "source": [
    "print(len(Normal_Onefresh['SubjectID'].unique()))\n",
    "print(len(NineTwelve_Onefresh['SubjectID'].unique()))\n",
    "print(len(TwelvePlus_Onefresh['SubjectID'].unique()))\n",
    "print(len(NonGrad_Onefresh['SubjectID'].unique()))"
   ]
  },
  {
   "cell_type": "code",
   "execution_count": null,
   "metadata": {},
   "outputs": [],
   "source": [
    "print(len(Normal_lowfresh['SubjectID'].unique())/len(Normal['SubjectID'].unique()))\n",
    "print(len(NineTwelve_lowfresh['SubjectID'].unique())/len(NineTwelve['SubjectID'].unique()))\n",
    "print(len(TwelvePlus_lowfresh['SubjectID'].unique())/len(TwelvePlus['SubjectID'].unique()))\n",
    "print(len(NonGrad_lowfresh['SubjectID'].unique())/len(NonGrad['SubjectID'].unique()))"
   ]
  },
  {
   "cell_type": "code",
   "execution_count": null,
   "metadata": {},
   "outputs": [],
   "source": [
    "122+138+32+556"
   ]
  },
  {
   "cell_type": "code",
   "execution_count": null,
   "metadata": {},
   "outputs": [],
   "source": [
    "labels = 'Normal', '9-12', '13+', 'Non Graduate'\n",
    "sizes = [122, 138, 32, 556]\n",
    "colors = ['gold', 'yellowgreen', 'lightcoral', 'lightskyblue']\n",
    "explode = (0, 0, 0, 0.1)  # explode 1st slice\n",
    "\n",
    "# Plot\n",
    "plt.figure(dpi = 150)\n",
    "plt.pie(sizes, explode=explode, labels=labels, colors=colors,\n",
    "autopct='%1.1f%%', shadow=True, startangle=140)\n",
    "\n",
    "plt.axis('equal')\n",
    "plt.title('Students with less than 2.0 gpa first semester break down')\n",
    "plt.show() #summer into consideration"
   ]
  },
  {
   "cell_type": "code",
   "execution_count": null,
   "metadata": {},
   "outputs": [],
   "source": [
    "print(122/848) #normal\n",
    "print(138/848) #nineTwelve\n",
    "print(32/848) #TwelvePlus\n",
    "print(556/848) #nongrad. It can be guessed that if the person with low freshmen grade does not graduate\n",
    "#within 6 years, the person is going to not graduate at all. "
   ]
  },
  {
   "cell_type": "code",
   "execution_count": null,
   "metadata": {},
   "outputs": [],
   "source": [
    "from sklearn import preprocessing\n",
    "le = preprocessing.LabelEncoder()"
   ]
  },
  {
   "cell_type": "code",
   "execution_count": null,
   "metadata": {},
   "outputs": [],
   "source": [
    "for i in classified_dataframe.select_dtypes(object):\n",
    "    print(i)\n",
    "    classified_dataframe= classified_dataframe.fillna('NaN')\n",
    "    classified_dataframe[i] = le.fit_transform(classified_dataframe[i])"
   ]
  },
  {
   "cell_type": "code",
   "execution_count": null,
   "metadata": {},
   "outputs": [],
   "source": [
    "classified_dataframe.loc[classified_dataframe['Degree A ward Date'].isnull(), 'Degree Award Date']=0\n",
    "classified_dataframe.loc[classified_dataframe['Degree Award Date'].isnull()==False, 'Degree Award Date']=1"
   ]
  },
  {
   "cell_type": "code",
   "execution_count": null,
   "metadata": {},
   "outputs": [],
   "source": [
    "classified_dataframe.loc[classified_dataframe['Degree Confer Date'].isnull(), 'Degree Confer Date']=0\n",
    "classified_dataframe.loc[classified_dataframe['Degree Confer Date'].isnull()==False, 'Degree Confer Date']=1"
   ]
  },
  {
   "cell_type": "code",
   "execution_count": null,
   "metadata": {},
   "outputs": [],
   "source": [
    "classified_dataframe['Degree Award Date']=dataframe['Degree Award Date']\n",
    "classified_dataframe['Degree Confer Date']=dataframe['Degree Confer Date']"
   ]
  },
  {
   "cell_type": "code",
   "execution_count": null,
   "metadata": {},
   "outputs": [],
   "source": [
    "classified_dataframe['Degree Award Date'].isnull().sum()"
   ]
  },
  {
   "cell_type": "code",
   "execution_count": null,
   "metadata": {},
   "outputs": [],
   "source": [
    "classified_dataframe.corr()"
   ]
  },
  {
   "cell_type": "code",
   "execution_count": null,
   "metadata": {},
   "outputs": [],
   "source": [
    "le.inverse_transform(classified_dataframe['Classification'])"
   ]
  },
  {
   "cell_type": "code",
   "execution_count": null,
   "metadata": {},
   "outputs": [],
   "source": [
    "critical_semester = classified_dataframe.loc[classified_dataframe['Term GPA']<1]"
   ]
  },
  {
   "cell_type": "code",
   "execution_count": null,
   "metadata": {},
   "outputs": [],
   "source": [
    "crit = critical_semester['SubjectID'].unique()"
   ]
  },
  {
   "cell_type": "code",
   "execution_count": null,
   "metadata": {},
   "outputs": [],
   "source": [
    "count = 0\n",
    "for i in crit:\n",
    "    if(i in graduated['SubjectID'].unique()):\n",
    "        count = count+1\n",
    "print(count)"
   ]
  },
  {
   "cell_type": "code",
   "execution_count": null,
   "metadata": {},
   "outputs": [],
   "source": [
    "count = 0\n",
    "for i in crit:\n",
    "    if(i in non_graduate['SubjectID'].unique()):\n",
    "        count = count+1\n",
    "print(count)"
   ]
  },
  {
   "cell_type": "code",
   "execution_count": null,
   "metadata": {},
   "outputs": [],
   "source": [
    "len(crit)"
   ]
  },
  {
   "cell_type": "code",
   "execution_count": null,
   "metadata": {},
   "outputs": [],
   "source": [
    "5642/7763"
   ]
  },
  {
   "cell_type": "code",
   "execution_count": null,
   "metadata": {},
   "outputs": [],
   "source": [
    "df_drop_summer = pd.read_csv(\"df_drop_summer.csv\")"
   ]
  },
  {
   "cell_type": "code",
   "execution_count": null,
   "metadata": {},
   "outputs": [],
   "source": [
    "df_drop_summer.groupby(['Classification']).median()"
   ]
  },
  {
   "cell_type": "code",
   "execution_count": null,
   "metadata": {},
   "outputs": [],
   "source": [
    "df_drop_summer.groupby('SubjectID')"
   ]
  },
  {
   "cell_type": "code",
   "execution_count": null,
   "metadata": {},
   "outputs": [],
   "source": [
    "major_dics = df_drop_summer['Ps1 Major1 Code'].value_counts().to_dict()\n",
    "example = pd.DataFrame(data=major_dics, index=[0])\n",
    "example.to_excel('majors.xlsx')"
   ]
  },
  {
   "cell_type": "code",
   "execution_count": null,
   "metadata": {},
   "outputs": [],
   "source": [
    "normal_df= df_drop_summer.loc[df_drop_summer['Classification']==4]\n",
    "major_dics_normal = normal_df['Ps1 Major1 Code'].value_counts().to_dict()\n",
    "normal_major = pd.DataFrame(data = major_dics_normal, index = [0])\n",
    "normal_major.to_excel('normal_majors.xlsx')"
   ]
  },
  {
   "cell_type": "code",
   "execution_count": null,
   "metadata": {},
   "outputs": [],
   "source": [
    "ntw_df= df_drop_summer.loc[df_drop_summer['Classification']==3]\n",
    "major_dics_ntw = ntw_df['Ps1 Major1 Code'].value_counts().to_dict()\n",
    "ntw_major = pd.DataFrame(data = major_dics_ntw, index = [0])\n",
    "ntw_major.to_excel('ntw_majors.xlsx')"
   ]
  },
  {
   "cell_type": "code",
   "execution_count": null,
   "metadata": {},
   "outputs": [],
   "source": [
    "ttp_df= df_drop_summer.loc[df_drop_summer['Classification']==2]\n",
    "major_dics_ttp = ttp_df['Ps1 Major1 Code'].value_counts().to_dict()\n",
    "ttp_major = pd.DataFrame(data = major_dics_ttp, index = [0])\n",
    "ttp_major.to_excel('ttp_majors.xlsx')"
   ]
  },
  {
   "cell_type": "code",
   "execution_count": null,
   "metadata": {},
   "outputs": [],
   "source": [
    "ng_df= df_drop_summer.loc[df_drop_summer['Classification']==1]\n",
    "major_dics_ng = ng_df['Ps1 Major1 Code'].value_counts().to_dict()\n",
    "ng_major = pd.DataFrame(data = major_dics_ng, index = [0])\n",
    "ng_major.to_excel('ng_majors.xlsx')"
   ]
  },
  {
   "cell_type": "code",
   "execution_count": null,
   "metadata": {},
   "outputs": [],
   "source": [
    "df_drop_summer['Classification'].value_counts()"
   ]
  },
  {
   "cell_type": "code",
   "execution_count": null,
   "metadata": {},
   "outputs": [],
   "source": [
    "df_drop_summer.corr()"
   ]
  },
  {
   "cell_type": "code",
   "execution_count": null,
   "metadata": {},
   "outputs": [],
   "source": [
    "import pandas as pd\n",
    "df_drop_summer = pd.read_csv('df_drop_summer.csv')"
   ]
  },
  {
   "cell_type": "code",
   "execution_count": null,
   "metadata": {},
   "outputs": [],
   "source": [
    "len(df['SubjectID'].unique())"
   ]
  },
  {
   "cell_type": "code",
   "execution_count": null,
   "metadata": {},
   "outputs": [],
   "source": [
    "consequtive = []\n",
    "for i in df['SubjectID'].unique():\n",
    "    x = df.loc[df['SubjectID']==i]\n",
    "    for j in range(0, len(x['Term GPA'])-1):\n",
    "        a = x['Term GPA'].iloc[j]\n",
    "        b = x['Term GPA'].iloc[j+1]\n",
    "        c = x['Term Hrs Earned'].iloc[j]\n",
    "        d = x['Term Hrs Earned'].iloc[j+1]\n",
    "        if(a<1 and b<1):\n",
    "            consequtive.append(i)"
   ]
  },
  {
   "cell_type": "code",
   "execution_count": null,
   "metadata": {},
   "outputs": [],
   "source": [
    "for i in consequtive:\n",
    "    x = df.loc[df['SubjectID']==i]\n",
    "    if(len(x)>16):\n",
    "        consequtive.remove(i)"
   ]
  },
  {
   "cell_type": "code",
   "execution_count": null,
   "metadata": {},
   "outputs": [],
   "source": [
    "for i in consequtive:\n",
    "    if(i in normal):\n",
    "        consequtive.remove(i)"
   ]
  },
  {
   "cell_type": "code",
   "execution_count": null,
   "metadata": {},
   "outputs": [],
   "source": [
    "consequtive= set(consequtive)"
   ]
  },
  {
   "cell_type": "code",
   "execution_count": null,
   "metadata": {},
   "outputs": [],
   "source": [
    "len(consequtive)"
   ]
  },
  {
   "cell_type": "code",
   "execution_count": null,
   "metadata": {},
   "outputs": [],
   "source": [
    "df_drop_summer.loc[df_drop_summer['Degree Confer Date'].isnull(), 'Degree Confer Date']=0\n",
    "df_drop_summer.loc[df_drop_summer['Degree Confer Date'].isnull()==False, 'Degree Confer Date']=1\n",
    "df_drop_summer.loc[df_drop_summer['Degree Award Date'].isnull(), 'Degree Award Date']=0\n",
    "df_drop_summer.loc[df_drop_summer['Degree Award Date'].isnull()==False, 'Degree Award Date']=1"
   ]
  },
  {
   "cell_type": "code",
   "execution_count": null,
   "metadata": {},
   "outputs": [],
   "source": [
    "df_drop_summer.loc[df_drop_summer['Ps1 Major2 Code']=='.', 'Ps1 Major2 Code']=0\n",
    "df_drop_summer.loc[df_drop_summer['Ps1 Major2 Code']!='.', 'Ps1 Major2 Code']=1"
   ]
  },
  {
   "cell_type": "code",
   "execution_count": null,
   "metadata": {},
   "outputs": [],
   "source": [
    "df_drop_summer.loc[df_drop_summer['Ps2 Major2 Code']=='.', 'Ps2 Major2 Code']=0\n",
    "df_drop_summer.loc[df_drop_summer['Ps2 Major2 Code']!='.', 'Ps2 Major2 Code']=1"
   ]
  },
  {
   "cell_type": "code",
   "execution_count": null,
   "metadata": {},
   "outputs": [],
   "source": [
    "df_drop_summer.loc[df_drop_summer['Ps2 Major1 Code']=='.', 'Ps2 Major1 Code']=0\n",
    "df_drop_summer.loc[df_drop_summer['Ps2 Major1 Code']!='.', 'Ps2 Major1 Code']=1"
   ]
  },
  {
   "cell_type": "code",
   "execution_count": null,
   "metadata": {},
   "outputs": [],
   "source": [
    "df_drop_summer.loc[df_drop_summer['Dorm Area']=='.', 'Dorm Area']=0\n",
    "df_drop_summer.loc[df_drop_summer['Dorm Area']!='.', 'Dorm Area']=1"
   ]
  },
  {
   "cell_type": "code",
   "execution_count": null,
   "metadata": {},
   "outputs": [],
   "source": [
    "df_drop_summer.loc[df_drop_summer['Citizen Country Name']=='USA', 'Citizen Country Name']=0\n",
    "df_drop_summer.loc[df_drop_summer['Citizen Country Name']!='USA', 'Citizen Country Name']=1"
   ]
  },
  {
   "cell_type": "code",
   "execution_count": null,
   "metadata": {},
   "outputs": [],
   "source": [
    "df_drop_summer.loc[df_drop_summer['Ps1 Acad Standing Desc']=='ACTIVE', 'Ps1 Acad Standing Desc']=1\n",
    "df_drop_summer.loc[df_drop_summer['Ps1 Acad Standing Desc']!='ACTIVE', 'Ps1 Acad Standing Desc']=0"
   ]
  },
  {
   "cell_type": "code",
   "execution_count": null,
   "metadata": {},
   "outputs": [],
   "source": [
    "df_drop_summer.loc[df_drop_summer['Ps2 Ofcl Stat Flag']=='Y', 'Ps2 Ofcl Stat Flag']=1\n",
    "df_drop_summer.loc[df_drop_summer['Ps2 Ofcl Stat Flag']!='N', 'Ps2 Ofcl Stat Flag']=0"
   ]
  },
  {
   "cell_type": "code",
   "execution_count": null,
   "metadata": {},
   "outputs": [],
   "source": [
    "df_drop_summer= df_drop_summer.drop(['Grade'], axis =1)"
   ]
  },
  {
   "cell_type": "code",
   "execution_count": null,
   "metadata": {},
   "outputs": [],
   "source": [
    "df_drop_summer = df_drop_summer.drop(['Unnamed: 0'], axis =1)"
   ]
  },
  {
   "cell_type": "code",
   "execution_count": null,
   "metadata": {},
   "outputs": [],
   "source": [
    "classified_students_4 = df_drop_summer.loc[df_drop_summer['Classification']==4]\n",
    "classified_students_3 = df_drop_summer.loc[df_drop_summer['Classification']==3]\n",
    "classified_students_2 = df_drop_summer.loc[df_drop_summer['Classification']==2]\n",
    "classified_students_1 = df_drop_summer.loc[df_drop_summer['Classification']==1]"
   ]
  },
  {
   "cell_type": "code",
   "execution_count": null,
   "metadata": {},
   "outputs": [],
   "source": [
    "df_drop_summer['Classification'].value_counts()"
   ]
  },
  {
   "cell_type": "code",
   "execution_count": null,
   "metadata": {},
   "outputs": [],
   "source": [
    "print(len(classified_students_4['SubjectID'].unique()))\n",
    "print(len(classified_students_3['SubjectID'].unique()))\n",
    "print(len(classified_students_2['SubjectID'].unique()))\n",
    "print(len(classified_students_1['SubjectID'].unique()))\n",
    "\n",
    "print(len(classified_students_4['SubjectID']))\n",
    "print(len(classified_students_3['SubjectID']))\n",
    "print(len(classified_students_2['SubjectID']))\n",
    "print(len(classified_students_1['SubjectID']))"
   ]
  },
  {
   "cell_type": "code",
   "execution_count": null,
   "metadata": {},
   "outputs": [],
   "source": [
    "df_labeled.head()"
   ]
  },
  {
   "cell_type": "code",
   "execution_count": null,
   "metadata": {},
   "outputs": [],
   "source": [
    "df_labeled= df_drop_summer.fillna('NaN')\n",
    "df_labeled['Gender'] = le.fit_transform(df_drop_summer['Gender'])"
   ]
  },
  {
   "cell_type": "code",
   "execution_count": null,
   "metadata": {},
   "outputs": [],
   "source": [
    "df_labeled['Ps1 Timestat Code'] = df_drop_summer['Ps1 Timestat Code']\n",
    "df_labeled['Ps1 Major1 Code'] = df_drop_summer['Ps1 Major1 Code']\n",
    "df_labeled['Repeated Flag'] = df_drop_summer['Repeated Flag']"
   ]
  },
  {
   "cell_type": "code",
   "execution_count": null,
   "metadata": {},
   "outputs": [],
   "source": [
    "df_labeled= df_labeled.drop(['Reported Grade', 'HS City'], axis = 1)"
   ]
  },
  {
   "cell_type": "code",
   "execution_count": null,
   "metadata": {},
   "outputs": [],
   "source": [
    "df_labeled = df_labeled.drop(['SAT Total', 'ACT Composite'], axis =1)"
   ]
  },
  {
   "cell_type": "code",
   "execution_count": null,
   "metadata": {},
   "outputs": [],
   "source": [
    "df_labeled['Classification'] = df_drop_summer['Classification'].copy()"
   ]
  },
  {
   "cell_type": "code",
   "execution_count": null,
   "metadata": {},
   "outputs": [],
   "source": [
    "df_labeled.loc[df_labeled['Classification']==2, 'Classification']=0\n",
    "df_labeled.loc[df_labeled['Classification']==1, 'Classification']=0"
   ]
  },
  {
   "cell_type": "code",
   "execution_count": null,
   "metadata": {},
   "outputs": [],
   "source": [
    "df_labeled.loc[df_labeled['Classification']==4, 'Classification']=1\n",
    "df_labeled.loc[df_labeled['Classification']==3, 'Classification']=1"
   ]
  },
  {
   "cell_type": "code",
   "execution_count": null,
   "metadata": {},
   "outputs": [],
   "source": [
    "df_labeled.columns"
   ]
  },
  {
   "cell_type": "code",
   "execution_count": null,
   "metadata": {},
   "outputs": [],
   "source": [
    "categoricals = df_labeled[['Ps1 Timestat Code', 'Ps1 Major1 Code','Repeated Flag']]"
   ]
  },
  {
   "cell_type": "code",
   "execution_count": null,
   "metadata": {},
   "outputs": [],
   "source": [
    "df_labeled = df_labeled.drop(['Year Term ID_y', 'Ps1 Acad Standing Desc'], axis = 1)"
   ]
  },
  {
   "cell_type": "code",
   "execution_count": null,
   "metadata": {},
   "outputs": [],
   "source": [
    "object_columns = df_labeled.iloc[:, 7:22]"
   ]
  },
  {
   "cell_type": "code",
   "execution_count": null,
   "metadata": {},
   "outputs": [],
   "source": [
    "object_columns['Repeated Flag'].value_counts()"
   ]
  },
  {
   "cell_type": "code",
   "execution_count": null,
   "metadata": {},
   "outputs": [],
   "source": [
    "df_labeled= df_labeled.drop(['Ps1 Timestat Code', 'Ps1 Major1 Code','Repeated Flag'], axis =1)"
   ]
  },
  {
   "cell_type": "code",
   "execution_count": null,
   "metadata": {},
   "outputs": [],
   "source": [
    "X = df_labeled.iloc[:, 0:17]\n",
    "y = df_labeled.iloc[:, 17]"
   ]
  },
  {
   "cell_type": "code",
   "execution_count": null,
   "metadata": {},
   "outputs": [],
   "source": [
    "X['Ps2 Ofcl Stat Flag'].value_counts()"
   ]
  },
  {
   "cell_type": "code",
   "execution_count": null,
   "metadata": {},
   "outputs": [],
   "source": [
    "X.loc[X['Ps2 Ofcl Stat Flag']=='N', 'Ps2 Ofcl Stat Flag']=1"
   ]
  },
  {
   "cell_type": "code",
   "execution_count": null,
   "metadata": {},
   "outputs": [],
   "source": [
    "y.value_counts()"
   ]
  },
  {
   "cell_type": "code",
   "execution_count": null,
   "metadata": {},
   "outputs": [],
   "source": [
    "from sklearn import preprocessing\n",
    "X = X.values #returns a numpy array\n",
    "min_max_scaler = preprocessing.MinMaxScaler()\n",
    "X_scaled = min_max_scaler.fit_transform(X)\n",
    "X = pd.DataFrame(X_scaled)"
   ]
  },
  {
   "cell_type": "code",
   "execution_count": null,
   "metadata": {},
   "outputs": [],
   "source": [
    "X = pd.concat([X,onehot_encoded], axis =1)"
   ]
  },
  {
   "cell_type": "code",
   "execution_count": null,
   "metadata": {},
   "outputs": [],
   "source": [
    "y.value_counts()"
   ]
  },
  {
   "cell_type": "code",
   "execution_count": null,
   "metadata": {},
   "outputs": [],
   "source": [
    "df_labeled_oh['Classification']= ''"
   ]
  },
  {
   "cell_type": "code",
   "execution_count": null,
   "metadata": {},
   "outputs": [],
   "source": [
    "df_labeled_oh['Classification'] = y"
   ]
  },
  {
   "cell_type": "code",
   "execution_count": null,
   "metadata": {},
   "outputs": [],
   "source": [
    "onehot_encoded.head()"
   ]
  },
  {
   "cell_type": "code",
   "execution_count": null,
   "metadata": {},
   "outputs": [],
   "source": [
    "y_labeled = le.fit_transform(y)"
   ]
  },
  {
   "cell_type": "code",
   "execution_count": null,
   "metadata": {},
   "outputs": [],
   "source": [
    "y_labeled"
   ]
  },
  {
   "cell_type": "code",
   "execution_count": null,
   "metadata": {},
   "outputs": [],
   "source": [
    "from sklearn.preprocessing import OneHotEncoder\n",
    "onehot_encoder = OneHotEncoder(sparse=False)\n",
    "onehot_encoded = onehot_encoder.fit_transform(categoricals)\n",
    "onehot_encoded = pd.DataFrame(onehot_encoded)"
   ]
  },
  {
   "cell_type": "code",
   "execution_count": null,
   "metadata": {},
   "outputs": [],
   "source": [
    "from sklearn.model_selection import train_test_split #train test split\n",
    "X_train, X_test, y_train, y_test = train_test_split(X, y, test_size = 0.2, random_state = 0)"
   ]
  },
  {
   "cell_type": "code",
   "execution_count": null,
   "metadata": {},
   "outputs": [],
   "source": [
    "import keras\n",
    "from keras.models import Sequential\n",
    "from keras.layers import Dense\n",
    "import tensorflow as tf #importing libraries "
   ]
  },
  {
   "cell_type": "code",
   "execution_count": 20,
   "metadata": {},
   "outputs": [],
   "source": [
    "import numpy as np"
   ]
  },
  {
   "cell_type": "code",
   "execution_count": 7,
   "metadata": {},
   "outputs": [
    {
     "data": {
      "text/html": [
       "<div>\n",
       "<style scoped>\n",
       "    .dataframe tbody tr th:only-of-type {\n",
       "        vertical-align: middle;\n",
       "    }\n",
       "\n",
       "    .dataframe tbody tr th {\n",
       "        vertical-align: top;\n",
       "    }\n",
       "\n",
       "    .dataframe thead th {\n",
       "        text-align: right;\n",
       "    }\n",
       "</style>\n",
       "<table border=\"1\" class=\"dataframe\">\n",
       "  <thead>\n",
       "    <tr style=\"text-align: right;\">\n",
       "      <th></th>\n",
       "      <th>SubjectID</th>\n",
       "      <th>Year Term ID</th>\n",
       "      <th>Term GPA</th>\n",
       "      <th>Term Hrs Earned</th>\n",
       "      <th>Term Hrs GPA</th>\n",
       "      <th>Term Points Earned</th>\n",
       "      <th>Cumul GPA</th>\n",
       "      <th>Cumul Hrs Earned</th>\n",
       "      <th>Cumul Hrs GPA</th>\n",
       "      <th>Cumul Points Earned</th>\n",
       "      <th>Term Transfer Hrs</th>\n",
       "    </tr>\n",
       "  </thead>\n",
       "  <tbody>\n",
       "    <tr>\n",
       "      <td>0</td>\n",
       "      <td>172789163</td>\n",
       "      <td>20062.0</td>\n",
       "      <td>0.00</td>\n",
       "      <td>0.0</td>\n",
       "      <td>0.0</td>\n",
       "      <td>0.0</td>\n",
       "      <td>3.07</td>\n",
       "      <td>128.0</td>\n",
       "      <td>128.0</td>\n",
       "      <td>393.2</td>\n",
       "      <td>0.0</td>\n",
       "    </tr>\n",
       "    <tr>\n",
       "      <td>1</td>\n",
       "      <td>172846340</td>\n",
       "      <td>20102.0</td>\n",
       "      <td>3.30</td>\n",
       "      <td>8.0</td>\n",
       "      <td>8.0</td>\n",
       "      <td>26.4</td>\n",
       "      <td>2.70</td>\n",
       "      <td>128.0</td>\n",
       "      <td>77.0</td>\n",
       "      <td>207.8</td>\n",
       "      <td>26.0</td>\n",
       "    </tr>\n",
       "    <tr>\n",
       "      <td>2</td>\n",
       "      <td>172857770</td>\n",
       "      <td>20162.0</td>\n",
       "      <td>0.00</td>\n",
       "      <td>0.0</td>\n",
       "      <td>0.0</td>\n",
       "      <td>0.0</td>\n",
       "      <td>2.20</td>\n",
       "      <td>128.0</td>\n",
       "      <td>124.0</td>\n",
       "      <td>273.2</td>\n",
       "      <td>0.0</td>\n",
       "    </tr>\n",
       "    <tr>\n",
       "      <td>3</td>\n",
       "      <td>172857770</td>\n",
       "      <td>20171.0</td>\n",
       "      <td>0.00</td>\n",
       "      <td>0.0</td>\n",
       "      <td>0.0</td>\n",
       "      <td>0.0</td>\n",
       "      <td>2.20</td>\n",
       "      <td>132.0</td>\n",
       "      <td>124.0</td>\n",
       "      <td>273.2</td>\n",
       "      <td>4.0</td>\n",
       "    </tr>\n",
       "    <tr>\n",
       "      <td>4</td>\n",
       "      <td>172877093</td>\n",
       "      <td>19871.0</td>\n",
       "      <td>1.33</td>\n",
       "      <td>12.0</td>\n",
       "      <td>12.0</td>\n",
       "      <td>16.0</td>\n",
       "      <td>1.77</td>\n",
       "      <td>85.0</td>\n",
       "      <td>97.0</td>\n",
       "      <td>171.8</td>\n",
       "      <td>0.0</td>\n",
       "    </tr>\n",
       "  </tbody>\n",
       "</table>\n",
       "</div>"
      ],
      "text/plain": [
       "   SubjectID  Year Term ID  Term GPA  Term Hrs Earned  Term Hrs GPA  \\\n",
       "0  172789163       20062.0      0.00              0.0           0.0   \n",
       "1  172846340       20102.0      3.30              8.0           8.0   \n",
       "2  172857770       20162.0      0.00              0.0           0.0   \n",
       "3  172857770       20171.0      0.00              0.0           0.0   \n",
       "4  172877093       19871.0      1.33             12.0          12.0   \n",
       "\n",
       "   Term Points Earned  Cumul GPA  Cumul Hrs Earned  Cumul Hrs GPA  \\\n",
       "0                 0.0       3.07             128.0          128.0   \n",
       "1                26.4       2.70             128.0           77.0   \n",
       "2                 0.0       2.20             128.0          124.0   \n",
       "3                 0.0       2.20             132.0          124.0   \n",
       "4                16.0       1.77              85.0           97.0   \n",
       "\n",
       "   Cumul Points Earned  Term Transfer Hrs  \n",
       "0                393.2                0.0  \n",
       "1                207.8               26.0  \n",
       "2                273.2                0.0  \n",
       "3                273.2                4.0  \n",
       "4                171.8                0.0  "
      ]
     },
     "execution_count": 7,
     "metadata": {},
     "output_type": "execute_result"
    }
   ],
   "source": [
    "df.head()"
   ]
  },
  {
   "cell_type": "code",
   "execution_count": 125,
   "metadata": {},
   "outputs": [],
   "source": [
    "Term_gpa= []"
   ]
  },
  {
   "cell_type": "code",
   "execution_count": 126,
   "metadata": {},
   "outputs": [],
   "source": [
    "for i in df['SubjectID'].unique():\n",
    "    temp = {}\n",
    "    x= df.loc[df['SubjectID']==i]\n",
    "    temp.update({i:x['Term GPA'].values})\n",
    "    Term_gpa.append(temp)"
   ]
  },
  {
   "cell_type": "code",
   "execution_count": 127,
   "metadata": {},
   "outputs": [
    {
     "data": {
      "text/plain": [
       "{172877093: array([1.33, 0.  , 3.  , 4.  ])}"
      ]
     },
     "execution_count": 127,
     "metadata": {},
     "output_type": "execute_result"
    }
   ],
   "source": [
    "Term_gpa[3] #minimum location, maximum location"
   ]
  },
  {
   "cell_type": "code",
   "execution_count": 142,
   "metadata": {},
   "outputs": [],
   "source": [
    "trends= []\n",
    "for i in Term_gpa:\n",
    "    for ID, history in i.items():\n",
    "        temp = []\n",
    "        Max= np.argmax(history)\n",
    "        Min= np.argmin(history)\n",
    "        temp.append(Max)\n",
    "        temp.append(Min)\n",
    "        temp.append(len(history))\n",
    "    trends.append(temp)"
   ]
  },
  {
   "cell_type": "code",
   "execution_count": 143,
   "metadata": {},
   "outputs": [
    {
     "data": {
      "text/plain": [
       "[[0, 0, 1],\n",
       " [0, 0, 1],\n",
       " [0, 0, 2],\n",
       " [3, 1, 4],\n",
       " [9, 0, 12],\n",
       " [11, 3, 15],\n",
       " [3, 4, 11],\n",
       " [5, 3, 6],\n",
       " [0, 6, 8],\n",
       " [0, 2, 15],\n",
       " [1, 7, 9],\n",
       " [0, 3, 4],\n",
       " [0, 2, 8],\n",
       " [2, 4, 6],\n",
       " [0, 0, 3],\n",
       " [9, 6, 11],\n",
       " [3, 1, 13],\n",
       " [4, 2, 7],\n",
       " [11, 12, 14],\n",
       " [8, 6, 15],\n",
       " [10, 8, 12],\n",
       " [0, 6, 11],\n",
       " [2, 5, 6],\n",
       " [10, 9, 11],\n",
       " [8, 11, 12],\n",
       " [8, 10, 13],\n",
       " [9, 6, 11],\n",
       " [11, 6, 30],\n",
       " [10, 9, 12],\n",
       " [11, 2, 12],\n",
       " [0, 1, 2],\n",
       " [15, 6, 20],\n",
       " [1, 2, 6],\n",
       " [2, 4, 6],\n",
       " [1, 2, 14],\n",
       " [4, 7, 13],\n",
       " [10, 7, 19],\n",
       " [0, 2, 4],\n",
       " [9, 7, 13],\n",
       " [1, 3, 10],\n",
       " [8, 4, 12],\n",
       " [9, 2, 11],\n",
       " [0, 2, 4],\n",
       " [0, 0, 1],\n",
       " [7, 5, 8],\n",
       " [0, 2, 6],\n",
       " [1, 3, 4],\n",
       " [3, 1, 9],\n",
       " [2, 10, 12],\n",
       " [3, 7, 15],\n",
       " [3, 7, 11],\n",
       " [8, 6, 12],\n",
       " [14, 3, 24],\n",
       " [0, 3, 4],\n",
       " [9, 4, 10],\n",
       " [2, 4, 6],\n",
       " [2, 12, 15],\n",
       " [7, 4, 9],\n",
       " [1, 0, 4],\n",
       " [6, 4, 9],\n",
       " [0, 1, 4],\n",
       " [7, 4, 9],\n",
       " [7, 3, 9],\n",
       " [9, 2, 14],\n",
       " [0, 7, 8],\n",
       " [0, 3, 10],\n",
       " [10, 0, 11],\n",
       " [8, 2, 11],\n",
       " [1, 4, 13],\n",
       " [6, 4, 11],\n",
       " [7, 0, 8],\n",
       " [1, 0, 2],\n",
       " [0, 6, 12],\n",
       " [6, 0, 15],\n",
       " [10, 11, 13],\n",
       " [12, 11, 14],\n",
       " [9, 5, 10],\n",
       " [9, 0, 10],\n",
       " [9, 3, 10],\n",
       " [7, 4, 9],\n",
       " [1, 0, 2],\n",
       " [0, 0, 12],\n",
       " [10, 3, 13],\n",
       " [12, 0, 13],\n",
       " [6, 8, 9],\n",
       " [0, 8, 10],\n",
       " [0, 3, 4],\n",
       " [8, 11, 12],\n",
       " [1, 2, 4],\n",
       " [8, 4, 9],\n",
       " [2, 1, 8],\n",
       " [9, 4, 11],\n",
       " [5, 0, 7],\n",
       " [1, 8, 12],\n",
       " [4, 0, 5],\n",
       " [4, 0, 11],\n",
       " [6, 5, 8],\n",
       " [1, 2, 8],\n",
       " [7, 3, 8],\n",
       " [2, 0, 5],\n",
       " [0, 2, 5],\n",
       " [7, 0, 9],\n",
       " [5, 0, 7],\n",
       " [4, 0, 8],\n",
       " [5, 3, 8],\n",
       " [11, 2, 22],\n",
       " [0, 6, 8],\n",
       " [0, 5, 6],\n",
       " [4, 0, 7],\n",
       " [5, 0, 7],\n",
       " [1, 7, 8],\n",
       " [9, 0, 17],\n",
       " [4, 10, 12],\n",
       " [12, 0, 14],\n",
       " [0, 0, 4],\n",
       " [7, 0, 11],\n",
       " [3, 0, 5],\n",
       " [1, 0, 8],\n",
       " [0, 5, 9],\n",
       " [2, 6, 7],\n",
       " [6, 2, 8],\n",
       " [2, 0, 8],\n",
       " [9, 1, 11],\n",
       " [2, 4, 5],\n",
       " [7, 2, 8],\n",
       " [2, 0, 4],\n",
       " [12, 0, 14],\n",
       " [1, 7, 8],\n",
       " [11, 3, 12],\n",
       " [4, 0, 11],\n",
       " [3, 6, 12],\n",
       " [5, 6, 7],\n",
       " [2, 0, 4],\n",
       " [5, 2, 6],\n",
       " [3, 9, 11],\n",
       " [7, 2, 12],\n",
       " [4, 5, 6],\n",
       " [10, 9, 11],\n",
       " [6, 0, 9],\n",
       " [3, 2, 4],\n",
       " [4, 0, 10],\n",
       " [4, 6, 9],\n",
       " [6, 4, 9],\n",
       " [6, 4, 8],\n",
       " [1, 6, 8],\n",
       " [0, 0, 2],\n",
       " [0, 2, 5],\n",
       " [1, 8, 9],\n",
       " [1, 4, 6],\n",
       " [0, 0, 1],\n",
       " [1, 0, 10],\n",
       " [4, 5, 9],\n",
       " [1, 2, 4],\n",
       " [0, 2, 4],\n",
       " [6, 7, 9],\n",
       " [2, 4, 10],\n",
       " [0, 2, 4],\n",
       " [0, 4, 7],\n",
       " [7, 2, 9],\n",
       " [4, 2, 5],\n",
       " [0, 4, 5],\n",
       " [8, 2, 9],\n",
       " [0, 1, 2],\n",
       " [4, 2, 6],\n",
       " [5, 4, 9],\n",
       " [12, 6, 14],\n",
       " [2, 0, 3],\n",
       " [1, 4, 8],\n",
       " [0, 4, 6],\n",
       " [1, 3, 4],\n",
       " [9, 0, 10],\n",
       " [3, 4, 7],\n",
       " [0, 6, 8],\n",
       " [7, 0, 10],\n",
       " [4, 0, 12],\n",
       " [1, 0, 2],\n",
       " [0, 0, 8],\n",
       " [10, 11, 12],\n",
       " [0, 1, 2],\n",
       " [7, 0, 11],\n",
       " [1, 0, 3],\n",
       " [8, 0, 9],\n",
       " [1, 0, 3],\n",
       " [2, 0, 12],\n",
       " [5, 7, 8],\n",
       " [12, 0, 13],\n",
       " [7, 0, 8],\n",
       " [0, 1, 2],\n",
       " [6, 0, 9],\n",
       " [8, 0, 9],\n",
       " [0, 1, 2],\n",
       " [1, 2, 4],\n",
       " [6, 4, 10],\n",
       " [0, 0, 11],\n",
       " [5, 0, 11],\n",
       " [1, 2, 4],\n",
       " [0, 2, 3],\n",
       " [13, 2, 14],\n",
       " [5, 3, 7],\n",
       " [0, 2, 8],\n",
       " [9, 3, 11],\n",
       " [0, 4, 6],\n",
       " [0, 1, 2],\n",
       " [0, 0, 2],\n",
       " [1, 0, 2],\n",
       " [8, 6, 10],\n",
       " [0, 10, 13],\n",
       " [0, 2, 3],\n",
       " [8, 0, 9],\n",
       " [1, 3, 9],\n",
       " [6, 0, 10],\n",
       " [9, 4, 10],\n",
       " [7, 4, 10],\n",
       " [12, 4, 13],\n",
       " [3, 4, 8],\n",
       " [4, 0, 5],\n",
       " [0, 3, 4],\n",
       " [9, 0, 10],\n",
       " [2, 5, 7],\n",
       " [0, 1, 6],\n",
       " [4, 5, 6],\n",
       " [0, 0, 4],\n",
       " [0, 0, 2],\n",
       " [12, 0, 13],\n",
       " [3, 2, 5],\n",
       " [5, 6, 7],\n",
       " [0, 2, 4],\n",
       " [0, 4, 6],\n",
       " [0, 6, 9],\n",
       " [0, 1, 3],\n",
       " [0, 3, 4],\n",
       " [0, 1, 4],\n",
       " [2, 0, 4],\n",
       " [2, 12, 13],\n",
       " [8, 0, 11],\n",
       " [0, 0, 1],\n",
       " [0, 1, 4],\n",
       " [1, 2, 3],\n",
       " [4, 1, 6],\n",
       " [0, 1, 2],\n",
       " [2, 3, 4],\n",
       " [1, 2, 10],\n",
       " [7, 4, 10],\n",
       " [5, 4, 8],\n",
       " [5, 0, 8],\n",
       " [1, 10, 14],\n",
       " [1, 6, 7],\n",
       " [4, 3, 8],\n",
       " [1, 2, 4],\n",
       " [8, 5, 9],\n",
       " [4, 8, 9],\n",
       " [4, 5, 9],\n",
       " [4, 0, 8],\n",
       " [14, 11, 17],\n",
       " [7, 2, 8],\n",
       " [8, 5, 9],\n",
       " [6, 5, 8],\n",
       " [4, 0, 9],\n",
       " [9, 2, 10],\n",
       " [7, 5, 8],\n",
       " [7, 2, 8],\n",
       " [0, 3, 4],\n",
       " [1, 4, 10],\n",
       " [0, 0, 1],\n",
       " [1, 2, 3],\n",
       " [0, 5, 8],\n",
       " [6, 0, 8],\n",
       " [6, 1, 8],\n",
       " [5, 0, 9],\n",
       " [2, 10, 12],\n",
       " [7, 5, 8],\n",
       " [5, 2, 8],\n",
       " [7, 5, 8],\n",
       " [5, 0, 11],\n",
       " [3, 2, 8],\n",
       " [7, 4, 10],\n",
       " [7, 9, 10],\n",
       " [7, 2, 10],\n",
       " [0, 5, 8],\n",
       " [5, 1, 8],\n",
       " [0, 7, 8],\n",
       " [6, 1, 8],\n",
       " [8, 0, 11],\n",
       " [4, 7, 9],\n",
       " [7, 4, 8],\n",
       " [0, 1, 4],\n",
       " [6, 5, 9],\n",
       " [0, 4, 5],\n",
       " [1, 3, 5],\n",
       " [7, 5, 8],\n",
       " [2, 6, 9],\n",
       " [7, 0, 8],\n",
       " [6, 3, 7],\n",
       " [8, 1, 9],\n",
       " [2, 5, 8],\n",
       " [4, 5, 9],\n",
       " [6, 1, 8],\n",
       " [5, 3, 8],\n",
       " [0, 7, 8],\n",
       " [1, 0, 4],\n",
       " [0, 0, 2],\n",
       " [8, 5, 9],\n",
       " [1, 6, 8],\n",
       " [0, 6, 8],\n",
       " [12, 5, 14],\n",
       " [2, 5, 6],\n",
       " [6, 7, 8],\n",
       " [7, 4, 8],\n",
       " [5, 0, 8],\n",
       " [0, 1, 4],\n",
       " [6, 9, 16],\n",
       " [3, 7, 9],\n",
       " [6, 7, 11],\n",
       " [8, 4, 10],\n",
       " [0, 7, 8],\n",
       " [11, 0, 12],\n",
       " [4, 6, 9],\n",
       " [4, 2, 9],\n",
       " [5, 4, 9],\n",
       " [7, 4, 8],\n",
       " [7, 0, 8],\n",
       " [5, 2, 8],\n",
       " [0, 2, 8],\n",
       " [2, 0, 8],\n",
       " [0, 5, 8],\n",
       " [0, 6, 8],\n",
       " [6, 2, 10],\n",
       " [0, 2, 10],\n",
       " [1, 2, 9],\n",
       " [7, 2, 8],\n",
       " [7, 4, 8],\n",
       " [5, 0, 8],\n",
       " [7, 0, 10],\n",
       " [7, 5, 8],\n",
       " [3, 2, 8],\n",
       " [0, 4, 8],\n",
       " [5, 1, 8],\n",
       " [3, 1, 8],\n",
       " [6, 3, 9],\n",
       " [0, 7, 8],\n",
       " [0, 5, 6],\n",
       " [1, 2, 3],\n",
       " [4, 6, 10],\n",
       " [3, 5, 8],\n",
       " [4, 6, 9],\n",
       " [6, 1, 8],\n",
       " [2, 4, 8],\n",
       " [4, 6, 10],\n",
       " [1, 0, 8],\n",
       " [6, 2, 9],\n",
       " [3, 0, 8],\n",
       " [7, 0, 8],\n",
       " [6, 0, 8],\n",
       " [8, 9, 10],\n",
       " [3, 4, 8],\n",
       " [2, 0, 8],\n",
       " [3, 2, 8],\n",
       " [4, 0, 8],\n",
       " [1, 2, 3],\n",
       " [0, 5, 10],\n",
       " [1, 4, 10],\n",
       " [7, 6, 9],\n",
       " [7, 0, 8],\n",
       " [7, 4, 8],\n",
       " [6, 0, 10],\n",
       " [2, 6, 8],\n",
       " [2, 0, 9],\n",
       " [0, 4, 5],\n",
       " [7, 6, 8],\n",
       " [6, 1, 8],\n",
       " [0, 4, 5],\n",
       " [6, 5, 8],\n",
       " [3, 1, 4],\n",
       " [4, 5, 8],\n",
       " [4, 2, 8],\n",
       " [2, 7, 12],\n",
       " [5, 0, 8],\n",
       " [4, 5, 8],\n",
       " [6, 8, 9],\n",
       " [7, 3, 8],\n",
       " [3, 0, 8],\n",
       " [6, 2, 8],\n",
       " [6, 5, 8],\n",
       " [7, 3, 8],\n",
       " [6, 0, 8],\n",
       " [7, 5, 8],\n",
       " [5, 1, 8],\n",
       " [5, 7, 10],\n",
       " [6, 4, 11],\n",
       " [0, 7, 9],\n",
       " [5, 7, 8],\n",
       " [0, 1, 8],\n",
       " [3, 4, 7],\n",
       " [4, 0, 8],\n",
       " [7, 5, 8],\n",
       " [7, 2, 9],\n",
       " [1, 7, 10],\n",
       " [4, 3, 9],\n",
       " [2, 0, 9],\n",
       " [4, 6, 13],\n",
       " [0, 2, 5],\n",
       " [4, 8, 11],\n",
       " [1, 4, 5],\n",
       " [5, 0, 8],\n",
       " [8, 0, 10],\n",
       " [2, 3, 8],\n",
       " [1, 3, 4],\n",
       " [7, 5, 8],\n",
       " [1, 6, 8],\n",
       " [0, 1, 8],\n",
       " [0, 2, 8],\n",
       " [8, 0, 12],\n",
       " [0, 1, 3],\n",
       " [3, 2, 8],\n",
       " [1, 0, 4],\n",
       " [0, 1, 2],\n",
       " [4, 1, 8],\n",
       " [0, 2, 10],\n",
       " [2, 0, 8],\n",
       " [1, 7, 9],\n",
       " [0, 0, 1],\n",
       " [5, 4, 8],\n",
       " [7, 4, 8],\n",
       " [6, 7, 8],\n",
       " [7, 5, 8],\n",
       " [7, 2, 10],\n",
       " [5, 0, 8],\n",
       " [3, 0, 8],\n",
       " [0, 1, 9],\n",
       " [3, 5, 8],\n",
       " [3, 2, 15],\n",
       " [11, 0, 12],\n",
       " [5, 3, 8],\n",
       " [2, 5, 8],\n",
       " [6, 3, 8],\n",
       " [7, 3, 8],\n",
       " [2, 1, 8],\n",
       " [1, 2, 3],\n",
       " [1, 6, 8],\n",
       " [4, 2, 9],\n",
       " [6, 4, 9],\n",
       " [6, 4, 8],\n",
       " [3, 5, 8],\n",
       " [9, 6, 10],\n",
       " [1, 5, 8],\n",
       " [3, 8, 9],\n",
       " [0, 4, 8],\n",
       " [8, 4, 12],\n",
       " [6, 5, 8],\n",
       " [1, 0, 9],\n",
       " [0, 1, 10],\n",
       " [0, 2, 8],\n",
       " [7, 0, 8],\n",
       " [2, 8, 9],\n",
       " [7, 4, 8],\n",
       " [6, 3, 9],\n",
       " [6, 5, 8],\n",
       " [7, 5, 8],\n",
       " [2, 0, 9],\n",
       " [4, 2, 10],\n",
       " [1, 2, 4],\n",
       " [7, 3, 8],\n",
       " [0, 0, 1],\n",
       " [0, 1, 3],\n",
       " [7, 5, 8],\n",
       " [0, 4, 11],\n",
       " [4, 6, 8],\n",
       " [4, 7, 8],\n",
       " [7, 0, 8],\n",
       " [1, 2, 3],\n",
       " [8, 0, 12],\n",
       " [2, 0, 9],\n",
       " [0, 2, 8],\n",
       " [7, 1, 8],\n",
       " [4, 7, 10],\n",
       " [0, 3, 9],\n",
       " [2, 3, 5],\n",
       " [5, 0, 8],\n",
       " [2, 8, 9],\n",
       " [1, 2, 5],\n",
       " [1, 0, 10],\n",
       " [1, 3, 10],\n",
       " [9, 0, 10],\n",
       " [5, 1, 8],\n",
       " [7, 0, 8],\n",
       " [3, 7, 8],\n",
       " [0, 6, 8],\n",
       " [0, 2, 8],\n",
       " [0, 6, 9],\n",
       " [6, 0, 8],\n",
       " [8, 0, 10],\n",
       " [6, 4, 8],\n",
       " [6, 1, 8],\n",
       " [8, 7, 9],\n",
       " [0, 7, 9],\n",
       " [7, 0, 8],\n",
       " [9, 0, 10],\n",
       " [4, 5, 9],\n",
       " [7, 4, 8],\n",
       " [5, 0, 6],\n",
       " [6, 5, 11],\n",
       " [0, 4, 8],\n",
       " [5, 0, 8],\n",
       " [6, 5, 8],\n",
       " [6, 3, 7],\n",
       " [7, 5, 8],\n",
       " [7, 1, 8],\n",
       " [0, 2, 4],\n",
       " [7, 4, 8],\n",
       " [7, 6, 10],\n",
       " [4, 2, 8],\n",
       " [2, 4, 8],\n",
       " [1, 2, 3],\n",
       " [8, 7, 9],\n",
       " [3, 2, 8],\n",
       " [6, 0, 9],\n",
       " [7, 0, 8],\n",
       " [3, 4, 8],\n",
       " [8, 9, 10],\n",
       " [9, 4, 10],\n",
       " [1, 2, 3],\n",
       " [9, 8, 11],\n",
       " [8, 2, 12],\n",
       " [0, 3, 5],\n",
       " [6, 3, 8],\n",
       " [0, 2, 3],\n",
       " [0, 4, 5],\n",
       " [1, 2, 3],\n",
       " [9, 8, 10],\n",
       " [5, 2, 6],\n",
       " [4, 5, 8],\n",
       " [0, 4, 9],\n",
       " [2, 0, 8],\n",
       " [0, 6, 8],\n",
       " [5, 6, 8],\n",
       " [3, 2, 4],\n",
       " [0, 3, 9],\n",
       " [7, 1, 8],\n",
       " [0, 5, 8],\n",
       " [1, 3, 8],\n",
       " [4, 2, 8],\n",
       " [1, 5, 8],\n",
       " [8, 7, 10],\n",
       " [1, 4, 8],\n",
       " [1, 0, 9],\n",
       " [4, 9, 10],\n",
       " [2, 5, 9],\n",
       " [2, 6, 8],\n",
       " [2, 5, 8],\n",
       " [4, 0, 7],\n",
       " [6, 3, 12],\n",
       " [3, 5, 8],\n",
       " [4, 0, 8],\n",
       " [1, 2, 4],\n",
       " [0, 4, 8],\n",
       " [4, 2, 10],\n",
       " [7, 0, 8],\n",
       " [6, 4, 8],\n",
       " [3, 0, 8],\n",
       " [5, 1, 10],\n",
       " [0, 1, 2],\n",
       " [3, 7, 9],\n",
       " [2, 0, 8],\n",
       " [0, 6, 8],\n",
       " [5, 2, 8],\n",
       " [0, 4, 8],\n",
       " [3, 2, 4],\n",
       " [7, 4, 8],\n",
       " [5, 0, 10],\n",
       " [1, 4, 7],\n",
       " [6, 5, 8],\n",
       " [6, 7, 8],\n",
       " [0, 6, 9],\n",
       " [5, 3, 8],\n",
       " [4, 3, 9],\n",
       " [5, 0, 8],\n",
       " [0, 4, 6],\n",
       " [5, 0, 8],\n",
       " [8, 0, 11],\n",
       " [4, 2, 7],\n",
       " [7, 0, 8],\n",
       " [2, 1, 8],\n",
       " [7, 3, 8],\n",
       " [1, 2, 8],\n",
       " [0, 0, 1],\n",
       " [1, 7, 10],\n",
       " [1, 6, 8],\n",
       " [1, 0, 2],\n",
       " [6, 3, 8],\n",
       " [6, 1, 9],\n",
       " [3, 2, 9],\n",
       " [2, 4, 8],\n",
       " [6, 5, 8],\n",
       " [10, 3, 11],\n",
       " [3, 4, 5],\n",
       " [6, 0, 8],\n",
       " [0, 0, 1],\n",
       " [10, 0, 11],\n",
       " [7, 0, 8],\n",
       " [6, 4, 9],\n",
       " [3, 5, 7],\n",
       " [0, 8, 9],\n",
       " [3, 0, 9],\n",
       " [6, 1, 8],\n",
       " [3, 0, 4],\n",
       " [5, 3, 8],\n",
       " [6, 0, 9],\n",
       " [3, 4, 6],\n",
       " [6, 0, 9],\n",
       " [6, 5, 8],\n",
       " [1, 2, 8],\n",
       " [3, 0, 8],\n",
       " [1, 4, 8],\n",
       " [4, 3, 8],\n",
       " [7, 5, 8],\n",
       " [7, 3, 8],\n",
       " [5, 0, 8],\n",
       " [3, 5, 8],\n",
       " [4, 6, 9],\n",
       " [1, 3, 7],\n",
       " [1, 7, 8],\n",
       " [7, 2, 10],\n",
       " [7, 4, 8],\n",
       " [5, 2, 9],\n",
       " [4, 0, 8],\n",
       " [6, 5, 8],\n",
       " [7, 0, 8],\n",
       " [0, 1, 2],\n",
       " [2, 0, 4],\n",
       " [0, 3, 4],\n",
       " [8, 0, 10],\n",
       " [5, 0, 8],\n",
       " [3, 5, 8],\n",
       " [1, 2, 3],\n",
       " [1, 2, 3],\n",
       " [1, 0, 2],\n",
       " [3, 0, 8],\n",
       " [1, 2, 4],\n",
       " [4, 2, 8],\n",
       " [2, 5, 8],\n",
       " [4, 3, 9],\n",
       " [6, 1, 8],\n",
       " [7, 0, 10],\n",
       " [1, 2, 4],\n",
       " [0, 1, 2],\n",
       " [5, 4, 8],\n",
       " [9, 0, 10],\n",
       " [1, 4, 8],\n",
       " [1, 5, 8],\n",
       " [7, 5, 10],\n",
       " [1, 2, 3],\n",
       " [4, 0, 8],\n",
       " [0, 0, 1],\n",
       " [3, 0, 8],\n",
       " [6, 5, 8],\n",
       " [2, 4, 9],\n",
       " [6, 5, 8],\n",
       " [0, 3, 9],\n",
       " [3, 4, 8],\n",
       " [0, 8, 9],\n",
       " [1, 0, 5],\n",
       " [6, 1, 12],\n",
       " [0, 1, 4],\n",
       " [1, 0, 9],\n",
       " [7, 0, 10],\n",
       " [6, 0, 8],\n",
       " [7, 2, 9],\n",
       " [1, 4, 8],\n",
       " [0, 7, 8],\n",
       " [7, 1, 10],\n",
       " [2, 0, 10],\n",
       " [0, 7, 8],\n",
       " [7, 0, 8],\n",
       " [1, 4, 8],\n",
       " [5, 1, 8],\n",
       " [7, 5, 8],\n",
       " [4, 5, 9],\n",
       " [0, 6, 8],\n",
       " [2, 4, 8],\n",
       " [0, 0, 1],\n",
       " [7, 5, 8],\n",
       " [4, 0, 8],\n",
       " [6, 1, 8],\n",
       " [7, 6, 8],\n",
       " [0, 0, 1],\n",
       " [7, 0, 8],\n",
       " [7, 1, 8],\n",
       " [3, 6, 8],\n",
       " [8, 1, 9],\n",
       " [1, 7, 8],\n",
       " [2, 1, 10],\n",
       " [5, 0, 8],\n",
       " [7, 6, 10],\n",
       " [8, 0, 9],\n",
       " [0, 4, 10],\n",
       " [6, 0, 8],\n",
       " [4, 0, 8],\n",
       " [6, 3, 8],\n",
       " [5, 0, 8],\n",
       " [0, 1, 8],\n",
       " [3, 0, 8],\n",
       " [6, 0, 9],\n",
       " [8, 0, 9],\n",
       " [1, 7, 8],\n",
       " [2, 1, 3],\n",
       " [3, 6, 9],\n",
       " [2, 6, 11],\n",
       " [7, 4, 8],\n",
       " [2, 6, 11],\n",
       " [5, 0, 8],\n",
       " [6, 2, 8],\n",
       " [0, 3, 4],\n",
       " [1, 0, 4],\n",
       " [6, 0, 9],\n",
       " [7, 3, 8],\n",
       " [5, 6, 8],\n",
       " [6, 5, 9],\n",
       " [7, 6, 10],\n",
       " [1, 5, 8],\n",
       " [4, 7, 10],\n",
       " [5, 4, 10],\n",
       " [7, 6, 10],\n",
       " [6, 5, 8],\n",
       " [0, 0, 1],\n",
       " [1, 6, 8],\n",
       " [9, 2, 11],\n",
       " [6, 0, 9],\n",
       " [0, 2, 3],\n",
       " [1, 4, 8],\n",
       " [5, 10, 11],\n",
       " [6, 4, 9],\n",
       " [5, 2, 8],\n",
       " [2, 6, 8],\n",
       " [7, 0, 8],\n",
       " [4, 0, 6],\n",
       " [6, 0, 8],\n",
       " [5, 1, 8],\n",
       " [0, 0, 1],\n",
       " [1, 3, 4],\n",
       " [0, 5, 8],\n",
       " [3, 5, 8],\n",
       " [7, 1, 11],\n",
       " [0, 1, 4],\n",
       " [5, 0, 10],\n",
       " [2, 0, 4],\n",
       " [5, 3, 8],\n",
       " [0, 2, 4],\n",
       " [4, 3, 8],\n",
       " [2, 5, 8],\n",
       " [6, 3, 8],\n",
       " [5, 6, 8],\n",
       " [7, 0, 9],\n",
       " [7, 6, 8],\n",
       " [8, 4, 9],\n",
       " [5, 2, 8],\n",
       " [6, 2, 8],\n",
       " [0, 3, 8],\n",
       " [0, 2, 4],\n",
       " [7, 5, 8],\n",
       " [5, 0, 10],\n",
       " [6, 2, 9],\n",
       " [5, 1, 8],\n",
       " [6, 0, 9],\n",
       " [7, 4, 8],\n",
       " [5, 0, 9],\n",
       " [5, 0, 8],\n",
       " [7, 6, 8],\n",
       " [5, 3, 8],\n",
       " [4, 8, 10],\n",
       " [0, 1, 4],\n",
       " [7, 0, 8],\n",
       " [5, 3, 8],\n",
       " [8, 4, 9],\n",
       " [6, 1, 8],\n",
       " [4, 5, 9],\n",
       " [1, 2, 3],\n",
       " [1, 0, 8],\n",
       " [5, 3, 8],\n",
       " [3, 0, 4],\n",
       " [3, 5, 8],\n",
       " [2, 3, 4],\n",
       " [14, 0, 18],\n",
       " [5, 3, 8],\n",
       " [4, 7, 8],\n",
       " [2, 3, 8],\n",
       " [8, 7, 9],\n",
       " [7, 5, 8],\n",
       " [2, 0, 10],\n",
       " [5, 2, 8],\n",
       " [0, 3, 7],\n",
       " [0, 5, 8],\n",
       " [0, 2, 4],\n",
       " [4, 2, 8],\n",
       " [0, 2, 3],\n",
       " [5, 1, 9],\n",
       " [4, 2, 8],\n",
       " [0, 3, 4],\n",
       " [4, 2, 8],\n",
       " [1, 4, 5],\n",
       " [0, 4, 10],\n",
       " [7, 0, 8],\n",
       " [4, 2, 8],\n",
       " [2, 10, 11],\n",
       " [7, 3, 8],\n",
       " [6, 0, 8],\n",
       " [2, 5, 8],\n",
       " [1, 5, 9],\n",
       " [1, 4, 8],\n",
       " [0, 2, 10],\n",
       " [7, 6, 8],\n",
       " [4, 5, 8],\n",
       " [7, 6, 8],\n",
       " [0, 4, 7],\n",
       " [0, 6, 10],\n",
       " [8, 3, 9],\n",
       " [6, 2, 8],\n",
       " [7, 0, 8],\n",
       " [2, 1, 8],\n",
       " [0, 2, 3],\n",
       " [9, 4, 10],\n",
       " [0, 0, 1],\n",
       " [6, 4, 8],\n",
       " [6, 0, 8],\n",
       " [8, 4, 9],\n",
       " [0, 0, 1],\n",
       " [6, 0, 8],\n",
       " [7, 0, 9],\n",
       " [2, 5, 10],\n",
       " [3, 5, 8],\n",
       " [4, 1, 10],\n",
       " [2, 7, 8],\n",
       " [6, 0, 9],\n",
       " [4, 5, 9],\n",
       " [7, 10, 11],\n",
       " [5, 0, 11],\n",
       " [2, 1, 8],\n",
       " [7, 0, 8],\n",
       " [0, 2, 10],\n",
       " [1, 0, 8],\n",
       " [0, 0, 1],\n",
       " [5, 2, 8],\n",
       " [0, 0, 1],\n",
       " [2, 11, 19],\n",
       " [7, 0, 8],\n",
       " [2, 8, 11],\n",
       " [3, 1, 10],\n",
       " [5, 6, 8],\n",
       " [0, 4, 6],\n",
       " [6, 2, 8],\n",
       " [0, 0, 1],\n",
       " [2, 4, 8],\n",
       " [7, 0, 9],\n",
       " [4, 6, 8],\n",
       " [2, 3, 5],\n",
       " [3, 5, 8],\n",
       " [9, 0, 10],\n",
       " [0, 2, 6],\n",
       " [0, 5, 10],\n",
       " [2, 0, 4],\n",
       " [9, 0, 10],\n",
       " [7, 4, 8],\n",
       " [6, 2, 8],\n",
       " [5, 1, 8],\n",
       " [6, 0, 9],\n",
       " [6, 2, 9],\n",
       " [5, 0, 10],\n",
       " [1, 2, 8],\n",
       " [6, 0, 8],\n",
       " [2, 4, 8],\n",
       " [8, 3, 9],\n",
       " [1, 3, 5],\n",
       " [2, 9, 10],\n",
       " [0, 1, 2],\n",
       " [7, 4, 8],\n",
       " [0, 4, 8],\n",
       " [5, 2, 8],\n",
       " [5, 0, 8],\n",
       " [1, 4, 6],\n",
       " [6, 1, 7],\n",
       " [7, 9, 10],\n",
       " [7, 1, 8],\n",
       " [4, 0, 9],\n",
       " [2, 5, 10],\n",
       " [3, 5, 8],\n",
       " [0, 1, 2],\n",
       " [3, 4, 8],\n",
       " [7, 4, 8],\n",
       " [3, 4, 8],\n",
       " [6, 5, 8],\n",
       " [9, 3, 10],\n",
       " [6, 1, 8],\n",
       " [0, 2, 4],\n",
       " [3, 0, 8],\n",
       " [7, 1, 8],\n",
       " [0, 7, 8],\n",
       " [0, 5, 8],\n",
       " [5, 8, 9],\n",
       " [4, 1, 8],\n",
       " [0, 3, 8],\n",
       " [7, 2, 12],\n",
       " [2, 4, 6],\n",
       " [2, 9, 10],\n",
       " [3, 0, 5],\n",
       " [7, 0, 9],\n",
       " [8, 3, 9],\n",
       " [1, 0, 2],\n",
       " [1, 8, 9],\n",
       " [2, 5, 8],\n",
       " [7, 6, 8],\n",
       " [1, 6, 8],\n",
       " [0, 2, 3],\n",
       " [4, 7, 10],\n",
       " [3, 2, 8],\n",
       " [6, 3, 8],\n",
       " [1, 2, 4],\n",
       " [9, 4, 10],\n",
       " [1, 4, 9],\n",
       " [7, 6, 8],\n",
       " [1, 4, 5],\n",
       " [3, 4, 7],\n",
       " [3, 0, 13],\n",
       " [2, 5, 8],\n",
       " [7, 4, 9],\n",
       " [16, 4, 17],\n",
       " [6, 1, 8],\n",
       " [4, 3, 9],\n",
       " [7, 8, 9],\n",
       " [6, 2, 8],\n",
       " [1, 2, 4],\n",
       " [1, 4, 5],\n",
       " [6, 0, 8],\n",
       " [0, 0, 1],\n",
       " [7, 3, 8],\n",
       " [0, 2, 4],\n",
       " [0, 1, 2],\n",
       " [0, 2, 10],\n",
       " [0, 5, 8],\n",
       " [9, 0, 10],\n",
       " [2, 7, 9],\n",
       " [8, 0, 9],\n",
       " [7, 1, 8],\n",
       " [8, 1, 9],\n",
       " [7, 2, 8],\n",
       " [4, 7, 8],\n",
       " [6, 8, 9],\n",
       " [3, 2, 9],\n",
       " [3, 5, 8],\n",
       " [3, 6, 8],\n",
       " [0, 2, 8],\n",
       " [3, 4, 8],\n",
       " [4, 5, 8],\n",
       " [12, 5, 13],\n",
       " [4, 6, 8],\n",
       " [5, 2, 8],\n",
       " [8, 2, 9],\n",
       " [1, 4, 8],\n",
       " [7, 1, 10],\n",
       " [1, 2, 3],\n",
       " [0, 0, 1],\n",
       " [8, 6, 9],\n",
       " [1, 4, 5],\n",
       " [2, 5, 8],\n",
       " [7, 4, 8],\n",
       " [2, 6, 8],\n",
       " [2, 5, 6],\n",
       " [3, 1, 9],\n",
       " [1, 5, 8],\n",
       " [6, 8, 9],\n",
       " [0, 4, 5],\n",
       " [5, 3, 7],\n",
       " [2, 6, 7],\n",
       " [4, 0, 5],\n",
       " [2, 4, 8],\n",
       " [5, 7, 10],\n",
       " [5, 4, 8],\n",
       " [7, 0, 8],\n",
       " [2, 7, 9],\n",
       " [7, 0, 10],\n",
       " [6, 9, 10],\n",
       " [7, 0, 10],\n",
       " [0, 5, 8],\n",
       " [6, 3, 8],\n",
       " [2, 0, 8],\n",
       " [4, 2, 9],\n",
       " [2, 7, 11],\n",
       " [0, 0, 1],\n",
       " [2, 7, 8],\n",
       " [7, 1, 8],\n",
       " [4, 8, 10],\n",
       " [1, 2, 3],\n",
       " [3, 0, 8],\n",
       " [7, 0, 9],\n",
       " [0, 3, 8],\n",
       " [2, 1, 4],\n",
       " [1, 0, 2],\n",
       " [1, 0, 10],\n",
       " [5, 7, 9],\n",
       " [0, 1, 8],\n",
       " [0, 2, 5],\n",
       " [1, 6, 8],\n",
       " ...]"
      ]
     },
     "execution_count": 143,
     "metadata": {},
     "output_type": "execute_result"
    }
   ],
   "source": [
    "normalize= "
   ]
  },
  {
   "cell_type": "code",
   "execution_count": 39,
   "metadata": {},
   "outputs": [],
   "source": []
  },
  {
   "cell_type": "code",
   "execution_count": 46,
   "metadata": {},
   "outputs": [],
   "source": []
  },
  {
   "cell_type": "code",
   "execution_count": 47,
   "metadata": {},
   "outputs": [],
   "source": []
  },
  {
   "cell_type": "code",
   "execution_count": null,
   "metadata": {},
   "outputs": [],
   "source": []
  },
  {
   "cell_type": "code",
   "execution_count": null,
   "metadata": {},
   "outputs": [],
   "source": []
  },
  {
   "cell_type": "code",
   "execution_count": null,
   "metadata": {},
   "outputs": [],
   "source": []
  },
  {
   "cell_type": "code",
   "execution_count": null,
   "metadata": {},
   "outputs": [],
   "source": []
  }
 ],
 "metadata": {
  "kernelspec": {
   "display_name": "Python 3",
   "language": "python",
   "name": "python3"
  },
  "language_info": {
   "codemirror_mode": {
    "name": "ipython",
    "version": 3
   },
   "file_extension": ".py",
   "mimetype": "text/x-python",
   "name": "python",
   "nbconvert_exporter": "python",
   "pygments_lexer": "ipython3",
   "version": "3.7.4"
  }
 },
 "nbformat": 4,
 "nbformat_minor": 2
}
